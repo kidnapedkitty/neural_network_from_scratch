{
 "cells": [
  {
   "metadata": {},
   "cell_type": "markdown",
   "source": "# Lets build a model to classify MNIST digits using the layers we created",
   "id": "fa7405c47cf2bc83"
  },
  {
   "metadata": {
    "ExecuteTime": {
     "end_time": "2025-06-26T08:18:02.280163Z",
     "start_time": "2025-06-26T08:18:02.274452Z"
    }
   },
   "cell_type": "code",
   "source": [
    "import numpy as np\n",
    "\n",
    "from tensorflow.keras.datasets import mnist\n",
    "from tensorflow.keras.utils import to_categorical\n",
    "\n",
    "from dense import Dense\n",
    "from activations import Tanh\n",
    "from loss_functions import mse_loss, mse_loss_derivative\n",
    "from engine import train, predict\n",
    "from activations import ReLU"
   ],
   "id": "42679533f89b7ac1",
   "outputs": [],
   "execution_count": 6
  },
  {
   "metadata": {
    "ExecuteTime": {
     "end_time": "2025-06-26T08:18:03.671653Z",
     "start_time": "2025-06-26T08:18:03.668001Z"
    }
   },
   "cell_type": "code",
   "source": [
    "def preprocessing(x, y, limit):\n",
    "    x = x.reshape(x.shape[0], 28 * 28, 1)\n",
    "    x = x.astype(np.float32) / 255.0\n",
    "\n",
    "    y = to_categorical(y)\n",
    "    y = y.reshape(y.shape[0], 10, 1)\n",
    "\n",
    "    return x[:limit], y[:limit]"
   ],
   "id": "a2f8d601c232b2ae",
   "outputs": [],
   "execution_count": 7
  },
  {
   "metadata": {
    "ExecuteTime": {
     "end_time": "2025-06-26T08:18:05.726970Z",
     "start_time": "2025-06-26T08:18:05.525694Z"
    }
   },
   "cell_type": "code",
   "source": [
    "(x_train, y_train), (x_test, y_test) = mnist.load_data()\n",
    "x_train, y_train = preprocessing(x_train, y_train, 10000)\n",
    "x_test, y_test = preprocessing(x_test, y_test, 20)"
   ],
   "id": "11b37f19d4ce5b69",
   "outputs": [],
   "execution_count": 8
  },
  {
   "metadata": {
    "ExecuteTime": {
     "end_time": "2025-06-26T08:18:08.394441Z",
     "start_time": "2025-06-26T08:18:08.389963Z"
    }
   },
   "cell_type": "code",
   "source": [
    "network = [\n",
    "    Dense(28 * 28, 40),\n",
    "    Tanh(),\n",
    "    Dense(40, 10),\n",
    "    Tanh()\n",
    "]"
   ],
   "id": "ea08a2376fe93ecf",
   "outputs": [],
   "execution_count": 9
  },
  {
   "metadata": {
    "ExecuteTime": {
     "end_time": "2025-06-26T08:22:05.218542Z",
     "start_time": "2025-06-26T08:18:17.582211Z"
    }
   },
   "cell_type": "code",
   "source": "train(network, mse_loss, mse_loss_derivative, x_train, y_train, epochs=100, learning_rate=0.001)",
   "id": "e5649d0bdcf03779",
   "outputs": [
    {
     "name": "stdout",
     "output_type": "stream",
     "text": [
      "Epoch 1/100, Error: 0.1064\n",
      "Epoch 2/100, Error: 0.0651\n",
      "Epoch 3/100, Error: 0.0564\n",
      "Epoch 4/100, Error: 0.0518\n",
      "Epoch 5/100, Error: 0.0488\n",
      "Epoch 6/100, Error: 0.0465\n",
      "Epoch 7/100, Error: 0.0446\n",
      "Epoch 8/100, Error: 0.0430\n",
      "Epoch 9/100, Error: 0.0416\n",
      "Epoch 10/100, Error: 0.0404\n",
      "Epoch 11/100, Error: 0.0393\n",
      "Epoch 12/100, Error: 0.0383\n",
      "Epoch 13/100, Error: 0.0374\n",
      "Epoch 14/100, Error: 0.0366\n",
      "Epoch 15/100, Error: 0.0358\n",
      "Epoch 16/100, Error: 0.0351\n",
      "Epoch 17/100, Error: 0.0345\n",
      "Epoch 18/100, Error: 0.0339\n",
      "Epoch 19/100, Error: 0.0333\n",
      "Epoch 20/100, Error: 0.0328\n",
      "Epoch 21/100, Error: 0.0323\n",
      "Epoch 22/100, Error: 0.0318\n",
      "Epoch 23/100, Error: 0.0314\n",
      "Epoch 24/100, Error: 0.0310\n",
      "Epoch 25/100, Error: 0.0306\n",
      "Epoch 26/100, Error: 0.0302\n",
      "Epoch 27/100, Error: 0.0298\n",
      "Epoch 28/100, Error: 0.0295\n",
      "Epoch 29/100, Error: 0.0291\n",
      "Epoch 30/100, Error: 0.0288\n",
      "Epoch 31/100, Error: 0.0285\n",
      "Epoch 32/100, Error: 0.0282\n",
      "Epoch 33/100, Error: 0.0279\n",
      "Epoch 34/100, Error: 0.0277\n",
      "Epoch 35/100, Error: 0.0274\n",
      "Epoch 36/100, Error: 0.0271\n",
      "Epoch 37/100, Error: 0.0269\n",
      "Epoch 38/100, Error: 0.0266\n",
      "Epoch 39/100, Error: 0.0264\n",
      "Epoch 40/100, Error: 0.0262\n",
      "Epoch 41/100, Error: 0.0259\n",
      "Epoch 42/100, Error: 0.0257\n",
      "Epoch 43/100, Error: 0.0255\n",
      "Epoch 44/100, Error: 0.0253\n",
      "Epoch 45/100, Error: 0.0251\n",
      "Epoch 46/100, Error: 0.0249\n",
      "Epoch 47/100, Error: 0.0247\n",
      "Epoch 48/100, Error: 0.0246\n",
      "Epoch 49/100, Error: 0.0244\n",
      "Epoch 50/100, Error: 0.0242\n",
      "Epoch 51/100, Error: 0.0240\n",
      "Epoch 52/100, Error: 0.0239\n",
      "Epoch 53/100, Error: 0.0237\n",
      "Epoch 54/100, Error: 0.0236\n",
      "Epoch 55/100, Error: 0.0234\n",
      "Epoch 56/100, Error: 0.0233\n",
      "Epoch 57/100, Error: 0.0231\n",
      "Epoch 58/100, Error: 0.0230\n",
      "Epoch 59/100, Error: 0.0228\n",
      "Epoch 60/100, Error: 0.0227\n",
      "Epoch 61/100, Error: 0.0225\n",
      "Epoch 62/100, Error: 0.0224\n",
      "Epoch 63/100, Error: 0.0223\n",
      "Epoch 64/100, Error: 0.0222\n",
      "Epoch 65/100, Error: 0.0220\n",
      "Epoch 66/100, Error: 0.0219\n",
      "Epoch 67/100, Error: 0.0218\n",
      "Epoch 68/100, Error: 0.0217\n",
      "Epoch 69/100, Error: 0.0216\n",
      "Epoch 70/100, Error: 0.0214\n",
      "Epoch 71/100, Error: 0.0213\n",
      "Epoch 72/100, Error: 0.0212\n",
      "Epoch 73/100, Error: 0.0211\n",
      "Epoch 74/100, Error: 0.0210\n",
      "Epoch 75/100, Error: 0.0209\n",
      "Epoch 76/100, Error: 0.0208\n",
      "Epoch 77/100, Error: 0.0207\n",
      "Epoch 78/100, Error: 0.0206\n",
      "Epoch 79/100, Error: 0.0205\n",
      "Epoch 80/100, Error: 0.0204\n",
      "Epoch 81/100, Error: 0.0203\n",
      "Epoch 82/100, Error: 0.0202\n",
      "Epoch 83/100, Error: 0.0201\n",
      "Epoch 84/100, Error: 0.0200\n",
      "Epoch 85/100, Error: 0.0199\n",
      "Epoch 86/100, Error: 0.0198\n",
      "Epoch 87/100, Error: 0.0198\n",
      "Epoch 88/100, Error: 0.0197\n",
      "Epoch 89/100, Error: 0.0196\n",
      "Epoch 90/100, Error: 0.0195\n",
      "Epoch 91/100, Error: 0.0194\n",
      "Epoch 92/100, Error: 0.0193\n",
      "Epoch 93/100, Error: 0.0193\n",
      "Epoch 94/100, Error: 0.0192\n",
      "Epoch 95/100, Error: 0.0191\n",
      "Epoch 96/100, Error: 0.0190\n",
      "Epoch 97/100, Error: 0.0190\n",
      "Epoch 98/100, Error: 0.0189\n",
      "Epoch 99/100, Error: 0.0188\n",
      "Epoch 100/100, Error: 0.0187\n"
     ]
    }
   ],
   "execution_count": 10
  },
  {
   "metadata": {
    "ExecuteTime": {
     "end_time": "2025-06-26T08:22:15.954747Z",
     "start_time": "2025-06-26T08:22:15.930761Z"
    }
   },
   "cell_type": "code",
   "source": [
    "for x, y in zip(x_test, y_test):\n",
    "    output = predict(network, x)\n",
    "    print('pred:', np.argmax(output), '\\ttrue:', np.argmax(y))"
   ],
   "id": "a03f6ff9a93783e9",
   "outputs": [
    {
     "name": "stdout",
     "output_type": "stream",
     "text": [
      "pred: 7 \ttrue: 7\n",
      "pred: 2 \ttrue: 2\n",
      "pred: 1 \ttrue: 1\n",
      "pred: 0 \ttrue: 0\n",
      "pred: 4 \ttrue: 4\n",
      "pred: 1 \ttrue: 1\n",
      "pred: 4 \ttrue: 4\n",
      "pred: 9 \ttrue: 9\n",
      "pred: 6 \ttrue: 5\n",
      "pred: 9 \ttrue: 9\n",
      "pred: 0 \ttrue: 0\n",
      "pred: 8 \ttrue: 6\n",
      "pred: 9 \ttrue: 9\n",
      "pred: 0 \ttrue: 0\n",
      "pred: 1 \ttrue: 1\n",
      "pred: 5 \ttrue: 5\n",
      "pred: 9 \ttrue: 9\n",
      "pred: 7 \ttrue: 7\n",
      "pred: 8 \ttrue: 3\n",
      "pred: 4 \ttrue: 4\n"
     ]
    }
   ],
   "execution_count": 11
  }
 ],
 "metadata": {
  "kernelspec": {
   "display_name": "Python 3",
   "language": "python",
   "name": "python3"
  },
  "language_info": {
   "codemirror_mode": {
    "name": "ipython",
    "version": 2
   },
   "file_extension": ".py",
   "mimetype": "text/x-python",
   "name": "python",
   "nbconvert_exporter": "python",
   "pygments_lexer": "ipython2",
   "version": "2.7.6"
  }
 },
 "nbformat": 4,
 "nbformat_minor": 5
}
