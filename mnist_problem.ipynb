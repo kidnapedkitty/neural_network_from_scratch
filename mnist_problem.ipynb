{
 "cells": [
  {
   "metadata": {},
   "cell_type": "markdown",
   "source": "# Lets build a model to classify MNIST digits using the layers we created",
   "id": "fa7405c47cf2bc83"
  },
  {
   "metadata": {
    "ExecuteTime": {
     "end_time": "2025-06-27T05:17:16.367080Z",
     "start_time": "2025-06-27T05:17:13.751792Z"
    }
   },
   "cell_type": "code",
   "source": [
    "import numpy as np\n",
    "\n",
    "from tensorflow.keras.datasets import mnist\n",
    "from tensorflow.keras.utils import to_categorical\n",
    "\n",
    "from dense import Dense\n",
    "from activations import Tanh\n",
    "from loss_functions import mse_loss, mse_loss_derivative\n",
    "from engine import train, predict\n",
    "from activations import ReLU"
   ],
   "id": "42679533f89b7ac1",
   "outputs": [],
   "execution_count": 1
  },
  {
   "metadata": {
    "ExecuteTime": {
     "end_time": "2025-06-27T05:17:17.558152Z",
     "start_time": "2025-06-27T05:17:17.555009Z"
    }
   },
   "cell_type": "code",
   "source": [
    "def preprocessing(x, y, limit):\n",
    "    x = x.reshape(x.shape[0], 28 * 28, 1)\n",
    "    x = x.astype(np.float32) / 255.0\n",
    "\n",
    "    y = to_categorical(y)\n",
    "    y = y.reshape(y.shape[0], 10, 1)\n",
    "\n",
    "    return x[:limit], y[:limit]"
   ],
   "id": "a2f8d601c232b2ae",
   "outputs": [],
   "execution_count": 2
  },
  {
   "metadata": {
    "ExecuteTime": {
     "end_time": "2025-06-26T08:18:05.726970Z",
     "start_time": "2025-06-26T08:18:05.525694Z"
    }
   },
   "cell_type": "code",
   "source": [
    "(x_train, y_train), (x_test, y_test) = mnist.load_data()\n",
    "x_train, y_train = preprocessing(x_train, y_train, 10000)\n",
    "x_test, y_test = preprocessing(x_test, y_test, 20)"
   ],
   "id": "11b37f19d4ce5b69",
   "outputs": [],
   "execution_count": 8
  },
  {
   "metadata": {
    "ExecuteTime": {
     "end_time": "2025-06-26T08:18:08.394441Z",
     "start_time": "2025-06-26T08:18:08.389963Z"
    }
   },
   "cell_type": "code",
   "source": [
    "network = [\n",
    "    Dense(28 * 28, 40),\n",
    "    Tanh(),\n",
    "    Dense(40, 10),\n",
    "    Tanh()\n",
    "]"
   ],
   "id": "ea08a2376fe93ecf",
   "outputs": [],
   "execution_count": 9
  },
  {
   "metadata": {
    "ExecuteTime": {
     "end_time": "2025-06-26T08:22:05.218542Z",
     "start_time": "2025-06-26T08:18:17.582211Z"
    }
   },
   "cell_type": "code",
   "source": "train(network, mse_loss, mse_loss_derivative, x_train, y_train, epochs=100, learning_rate=0.001)",
   "id": "e5649d0bdcf03779",
   "outputs": [
    {
     "name": "stdout",
     "output_type": "stream",
     "text": [
      "Epoch 1/100, Error: 0.1064\n",
      "Epoch 2/100, Error: 0.0651\n",
      "Epoch 3/100, Error: 0.0564\n",
      "Epoch 4/100, Error: 0.0518\n",
      "Epoch 5/100, Error: 0.0488\n",
      "Epoch 6/100, Error: 0.0465\n",
      "Epoch 7/100, Error: 0.0446\n",
      "Epoch 8/100, Error: 0.0430\n",
      "Epoch 9/100, Error: 0.0416\n",
      "Epoch 10/100, Error: 0.0404\n",
      "Epoch 11/100, Error: 0.0393\n",
      "Epoch 12/100, Error: 0.0383\n",
      "Epoch 13/100, Error: 0.0374\n",
      "Epoch 14/100, Error: 0.0366\n",
      "Epoch 15/100, Error: 0.0358\n",
      "Epoch 16/100, Error: 0.0351\n",
      "Epoch 17/100, Error: 0.0345\n",
      "Epoch 18/100, Error: 0.0339\n",
      "Epoch 19/100, Error: 0.0333\n",
      "Epoch 20/100, Error: 0.0328\n",
      "Epoch 21/100, Error: 0.0323\n",
      "Epoch 22/100, Error: 0.0318\n",
      "Epoch 23/100, Error: 0.0314\n",
      "Epoch 24/100, Error: 0.0310\n",
      "Epoch 25/100, Error: 0.0306\n",
      "Epoch 26/100, Error: 0.0302\n",
      "Epoch 27/100, Error: 0.0298\n",
      "Epoch 28/100, Error: 0.0295\n",
      "Epoch 29/100, Error: 0.0291\n",
      "Epoch 30/100, Error: 0.0288\n",
      "Epoch 31/100, Error: 0.0285\n",
      "Epoch 32/100, Error: 0.0282\n",
      "Epoch 33/100, Error: 0.0279\n",
      "Epoch 34/100, Error: 0.0277\n",
      "Epoch 35/100, Error: 0.0274\n",
      "Epoch 36/100, Error: 0.0271\n",
      "Epoch 37/100, Error: 0.0269\n",
      "Epoch 38/100, Error: 0.0266\n",
      "Epoch 39/100, Error: 0.0264\n",
      "Epoch 40/100, Error: 0.0262\n",
      "Epoch 41/100, Error: 0.0259\n",
      "Epoch 42/100, Error: 0.0257\n",
      "Epoch 43/100, Error: 0.0255\n",
      "Epoch 44/100, Error: 0.0253\n",
      "Epoch 45/100, Error: 0.0251\n",
      "Epoch 46/100, Error: 0.0249\n",
      "Epoch 47/100, Error: 0.0247\n",
      "Epoch 48/100, Error: 0.0246\n",
      "Epoch 49/100, Error: 0.0244\n",
      "Epoch 50/100, Error: 0.0242\n",
      "Epoch 51/100, Error: 0.0240\n",
      "Epoch 52/100, Error: 0.0239\n",
      "Epoch 53/100, Error: 0.0237\n",
      "Epoch 54/100, Error: 0.0236\n",
      "Epoch 55/100, Error: 0.0234\n",
      "Epoch 56/100, Error: 0.0233\n",
      "Epoch 57/100, Error: 0.0231\n",
      "Epoch 58/100, Error: 0.0230\n",
      "Epoch 59/100, Error: 0.0228\n",
      "Epoch 60/100, Error: 0.0227\n",
      "Epoch 61/100, Error: 0.0225\n",
      "Epoch 62/100, Error: 0.0224\n",
      "Epoch 63/100, Error: 0.0223\n",
      "Epoch 64/100, Error: 0.0222\n",
      "Epoch 65/100, Error: 0.0220\n",
      "Epoch 66/100, Error: 0.0219\n",
      "Epoch 67/100, Error: 0.0218\n",
      "Epoch 68/100, Error: 0.0217\n",
      "Epoch 69/100, Error: 0.0216\n",
      "Epoch 70/100, Error: 0.0214\n",
      "Epoch 71/100, Error: 0.0213\n",
      "Epoch 72/100, Error: 0.0212\n",
      "Epoch 73/100, Error: 0.0211\n",
      "Epoch 74/100, Error: 0.0210\n",
      "Epoch 75/100, Error: 0.0209\n",
      "Epoch 76/100, Error: 0.0208\n",
      "Epoch 77/100, Error: 0.0207\n",
      "Epoch 78/100, Error: 0.0206\n",
      "Epoch 79/100, Error: 0.0205\n",
      "Epoch 80/100, Error: 0.0204\n",
      "Epoch 81/100, Error: 0.0203\n",
      "Epoch 82/100, Error: 0.0202\n",
      "Epoch 83/100, Error: 0.0201\n",
      "Epoch 84/100, Error: 0.0200\n",
      "Epoch 85/100, Error: 0.0199\n",
      "Epoch 86/100, Error: 0.0198\n",
      "Epoch 87/100, Error: 0.0198\n",
      "Epoch 88/100, Error: 0.0197\n",
      "Epoch 89/100, Error: 0.0196\n",
      "Epoch 90/100, Error: 0.0195\n",
      "Epoch 91/100, Error: 0.0194\n",
      "Epoch 92/100, Error: 0.0193\n",
      "Epoch 93/100, Error: 0.0193\n",
      "Epoch 94/100, Error: 0.0192\n",
      "Epoch 95/100, Error: 0.0191\n",
      "Epoch 96/100, Error: 0.0190\n",
      "Epoch 97/100, Error: 0.0190\n",
      "Epoch 98/100, Error: 0.0189\n",
      "Epoch 99/100, Error: 0.0188\n",
      "Epoch 100/100, Error: 0.0187\n"
     ]
    }
   ],
   "execution_count": 10
  },
  {
   "metadata": {
    "ExecuteTime": {
     "end_time": "2025-06-26T08:22:15.954747Z",
     "start_time": "2025-06-26T08:22:15.930761Z"
    }
   },
   "cell_type": "code",
   "source": [
    "for x, y in zip(x_test, y_test):\n",
    "    output = predict(network, x)\n",
    "    print('pred:', np.argmax(output), '\\ttrue:', np.argmax(y))"
   ],
   "id": "a03f6ff9a93783e9",
   "outputs": [
    {
     "name": "stdout",
     "output_type": "stream",
     "text": [
      "pred: 7 \ttrue: 7\n",
      "pred: 2 \ttrue: 2\n",
      "pred: 1 \ttrue: 1\n",
      "pred: 0 \ttrue: 0\n",
      "pred: 4 \ttrue: 4\n",
      "pred: 1 \ttrue: 1\n",
      "pred: 4 \ttrue: 4\n",
      "pred: 9 \ttrue: 9\n",
      "pred: 6 \ttrue: 5\n",
      "pred: 9 \ttrue: 9\n",
      "pred: 0 \ttrue: 0\n",
      "pred: 8 \ttrue: 6\n",
      "pred: 9 \ttrue: 9\n",
      "pred: 0 \ttrue: 0\n",
      "pred: 1 \ttrue: 1\n",
      "pred: 5 \ttrue: 5\n",
      "pred: 9 \ttrue: 9\n",
      "pred: 7 \ttrue: 7\n",
      "pred: 8 \ttrue: 3\n",
      "pred: 4 \ttrue: 4\n"
     ]
    }
   ],
   "execution_count": 11
  },
  {
   "metadata": {},
   "cell_type": "markdown",
   "source": "### lets try to add some layers to the network",
   "id": "656abda90330aefc"
  },
  {
   "metadata": {
    "ExecuteTime": {
     "end_time": "2025-06-27T02:12:33.738498Z",
     "start_time": "2025-06-27T02:12:33.724927Z"
    }
   },
   "cell_type": "code",
   "source": [
    "network = [\n",
    "    Dense(28 * 28, 40),\n",
    "    Tanh(),\n",
    "    Dense(40, 10),\n",
    "    Tanh(),\n",
    "    Dense(10, 10),\n",
    "    Tanh()\n",
    "]"
   ],
   "id": "f0541ccc96847385",
   "outputs": [],
   "execution_count": 19
  },
  {
   "metadata": {
    "ExecuteTime": {
     "end_time": "2025-06-27T01:52:11.828789Z",
     "start_time": "2025-06-27T01:48:22.986514Z"
    }
   },
   "cell_type": "code",
   "source": "train(network, mse_loss, mse_loss_derivative, x_train, y_train, epochs=100, learning_rate=0.001)",
   "id": "7e62636a2d00237f",
   "outputs": [
    {
     "name": "stdout",
     "output_type": "stream",
     "text": [
      "Epoch 1/100, Error: 0.1157\n",
      "Epoch 2/100, Error: 0.0727\n",
      "Epoch 3/100, Error: 0.0646\n",
      "Epoch 4/100, Error: 0.0605\n",
      "Epoch 5/100, Error: 0.0577\n",
      "Epoch 6/100, Error: 0.0555\n",
      "Epoch 7/100, Error: 0.0536\n",
      "Epoch 8/100, Error: 0.0518\n",
      "Epoch 9/100, Error: 0.0501\n",
      "Epoch 10/100, Error: 0.0484\n",
      "Epoch 11/100, Error: 0.0469\n",
      "Epoch 12/100, Error: 0.0454\n",
      "Epoch 13/100, Error: 0.0441\n",
      "Epoch 14/100, Error: 0.0428\n",
      "Epoch 15/100, Error: 0.0416\n",
      "Epoch 16/100, Error: 0.0404\n",
      "Epoch 17/100, Error: 0.0393\n",
      "Epoch 18/100, Error: 0.0383\n",
      "Epoch 19/100, Error: 0.0374\n",
      "Epoch 20/100, Error: 0.0365\n",
      "Epoch 21/100, Error: 0.0356\n",
      "Epoch 22/100, Error: 0.0349\n",
      "Epoch 23/100, Error: 0.0341\n",
      "Epoch 24/100, Error: 0.0335\n",
      "Epoch 25/100, Error: 0.0329\n",
      "Epoch 26/100, Error: 0.0323\n",
      "Epoch 27/100, Error: 0.0317\n",
      "Epoch 28/100, Error: 0.0312\n",
      "Epoch 29/100, Error: 0.0307\n",
      "Epoch 30/100, Error: 0.0303\n",
      "Epoch 31/100, Error: 0.0298\n",
      "Epoch 32/100, Error: 0.0294\n",
      "Epoch 33/100, Error: 0.0290\n",
      "Epoch 34/100, Error: 0.0287\n",
      "Epoch 35/100, Error: 0.0283\n",
      "Epoch 36/100, Error: 0.0280\n",
      "Epoch 37/100, Error: 0.0276\n",
      "Epoch 38/100, Error: 0.0273\n",
      "Epoch 39/100, Error: 0.0270\n",
      "Epoch 40/100, Error: 0.0267\n",
      "Epoch 41/100, Error: 0.0265\n",
      "Epoch 42/100, Error: 0.0262\n",
      "Epoch 43/100, Error: 0.0259\n",
      "Epoch 44/100, Error: 0.0257\n",
      "Epoch 45/100, Error: 0.0254\n",
      "Epoch 46/100, Error: 0.0252\n",
      "Epoch 47/100, Error: 0.0250\n",
      "Epoch 48/100, Error: 0.0248\n",
      "Epoch 49/100, Error: 0.0245\n",
      "Epoch 50/100, Error: 0.0243\n",
      "Epoch 51/100, Error: 0.0241\n",
      "Epoch 52/100, Error: 0.0239\n",
      "Epoch 53/100, Error: 0.0238\n",
      "Epoch 54/100, Error: 0.0236\n",
      "Epoch 55/100, Error: 0.0234\n",
      "Epoch 56/100, Error: 0.0232\n",
      "Epoch 57/100, Error: 0.0231\n",
      "Epoch 58/100, Error: 0.0229\n",
      "Epoch 59/100, Error: 0.0227\n",
      "Epoch 60/100, Error: 0.0226\n",
      "Epoch 61/100, Error: 0.0224\n",
      "Epoch 62/100, Error: 0.0223\n",
      "Epoch 63/100, Error: 0.0222\n",
      "Epoch 64/100, Error: 0.0220\n",
      "Epoch 65/100, Error: 0.0219\n",
      "Epoch 66/100, Error: 0.0218\n",
      "Epoch 67/100, Error: 0.0216\n",
      "Epoch 68/100, Error: 0.0215\n",
      "Epoch 69/100, Error: 0.0214\n",
      "Epoch 70/100, Error: 0.0213\n",
      "Epoch 71/100, Error: 0.0211\n",
      "Epoch 72/100, Error: 0.0210\n",
      "Epoch 73/100, Error: 0.0209\n",
      "Epoch 74/100, Error: 0.0208\n",
      "Epoch 75/100, Error: 0.0207\n",
      "Epoch 76/100, Error: 0.0206\n",
      "Epoch 77/100, Error: 0.0205\n",
      "Epoch 78/100, Error: 0.0204\n",
      "Epoch 79/100, Error: 0.0203\n",
      "Epoch 80/100, Error: 0.0202\n",
      "Epoch 81/100, Error: 0.0201\n",
      "Epoch 82/100, Error: 0.0200\n",
      "Epoch 83/100, Error: 0.0199\n",
      "Epoch 84/100, Error: 0.0198\n",
      "Epoch 85/100, Error: 0.0198\n",
      "Epoch 86/100, Error: 0.0197\n",
      "Epoch 87/100, Error: 0.0196\n",
      "Epoch 88/100, Error: 0.0195\n",
      "Epoch 89/100, Error: 0.0194\n",
      "Epoch 90/100, Error: 0.0193\n",
      "Epoch 91/100, Error: 0.0193\n",
      "Epoch 92/100, Error: 0.0192\n",
      "Epoch 93/100, Error: 0.0191\n",
      "Epoch 94/100, Error: 0.0190\n",
      "Epoch 95/100, Error: 0.0189\n",
      "Epoch 96/100, Error: 0.0189\n",
      "Epoch 97/100, Error: 0.0188\n",
      "Epoch 98/100, Error: 0.0187\n",
      "Epoch 99/100, Error: 0.0187\n",
      "Epoch 100/100, Error: 0.0186\n"
     ]
    }
   ],
   "execution_count": 13
  },
  {
   "metadata": {
    "ExecuteTime": {
     "end_time": "2025-06-27T01:57:59.375881Z",
     "start_time": "2025-06-27T01:57:59.340497Z"
    }
   },
   "cell_type": "code",
   "source": [
    "from sklearn.metrics import classification_report, confusion_matrix, accuracy_score\n",
    "import matplotlib.pyplot as plt\n",
    "import seaborn as sns\n",
    "\n",
    "y_pred_list = []\n",
    "y_true_list = []\n",
    "\n",
    "for x, y in zip(x_test, y_test):\n",
    "    output = predict(network, x)\n",
    "    y_pred_list.append(np.argmax(output))\n",
    "    y_true_list.append(np.argmax(y))\n",
    "\n",
    "accuracy = accuracy_score(y_true_list, y_pred_list)\n",
    "print(f\"Accuracy): {accuracy * 100:.2f}%\\n\")\n",
    "print(y_pred_list)"
   ],
   "id": "a7af027beb4d1e0a",
   "outputs": [
    {
     "name": "stdout",
     "output_type": "stream",
     "text": [
      "Accuracy): 95.00%\n",
      "\n",
      "[7, 2, 1, 0, 4, 1, 4, 9, 6, 9, 0, 6, 9, 0, 1, 5, 9, 7, 3, 4]\n"
     ]
    }
   ],
   "execution_count": 15
  },
  {
   "metadata": {},
   "cell_type": "markdown",
   "source": "### we can see there are predictions only for 20 pics, lets try to test it on more data",
   "id": "48787c68840248c6"
  },
  {
   "metadata": {
    "ExecuteTime": {
     "end_time": "2025-06-27T02:12:00.918895Z",
     "start_time": "2025-06-27T02:12:00.691699Z"
    }
   },
   "cell_type": "code",
   "source": [
    "# lets try more data for training as well\n",
    "(x_train, y_train), (x_test, y_test) = mnist.load_data()\n",
    "x_train, y_train = preprocessing(x_train, y_train, 30000)\n",
    "x_test, y_test = preprocessing(x_test, y_test, 500)"
   ],
   "id": "291a99ecc0af735b",
   "outputs": [],
   "execution_count": 18
  },
  {
   "metadata": {
    "ExecuteTime": {
     "end_time": "2025-06-27T02:25:26.394944Z",
     "start_time": "2025-06-27T02:14:51.988673Z"
    }
   },
   "cell_type": "code",
   "source": "train(network, mse_loss, mse_loss_derivative, x_train, y_train, epochs=100, learning_rate=0.001)",
   "id": "a0850a9c94a2fe2b",
   "outputs": [
    {
     "name": "stdout",
     "output_type": "stream",
     "text": [
      "Epoch 1/100, Error: 0.0804\n",
      "Epoch 2/100, Error: 0.0567\n",
      "Epoch 3/100, Error: 0.0513\n",
      "Epoch 4/100, Error: 0.0476\n",
      "Epoch 5/100, Error: 0.0449\n",
      "Epoch 6/100, Error: 0.0426\n",
      "Epoch 7/100, Error: 0.0407\n",
      "Epoch 8/100, Error: 0.0390\n",
      "Epoch 9/100, Error: 0.0374\n",
      "Epoch 10/100, Error: 0.0358\n",
      "Epoch 11/100, Error: 0.0344\n",
      "Epoch 12/100, Error: 0.0330\n",
      "Epoch 13/100, Error: 0.0318\n",
      "Epoch 14/100, Error: 0.0307\n",
      "Epoch 15/100, Error: 0.0297\n",
      "Epoch 16/100, Error: 0.0288\n",
      "Epoch 17/100, Error: 0.0280\n",
      "Epoch 18/100, Error: 0.0273\n",
      "Epoch 19/100, Error: 0.0266\n",
      "Epoch 20/100, Error: 0.0260\n",
      "Epoch 21/100, Error: 0.0255\n",
      "Epoch 22/100, Error: 0.0250\n",
      "Epoch 23/100, Error: 0.0245\n",
      "Epoch 24/100, Error: 0.0241\n",
      "Epoch 25/100, Error: 0.0237\n",
      "Epoch 26/100, Error: 0.0233\n",
      "Epoch 27/100, Error: 0.0229\n",
      "Epoch 28/100, Error: 0.0226\n",
      "Epoch 29/100, Error: 0.0223\n",
      "Epoch 30/100, Error: 0.0220\n",
      "Epoch 31/100, Error: 0.0217\n",
      "Epoch 32/100, Error: 0.0214\n",
      "Epoch 33/100, Error: 0.0212\n",
      "Epoch 34/100, Error: 0.0209\n",
      "Epoch 35/100, Error: 0.0207\n",
      "Epoch 36/100, Error: 0.0205\n",
      "Epoch 37/100, Error: 0.0202\n",
      "Epoch 38/100, Error: 0.0200\n",
      "Epoch 39/100, Error: 0.0198\n",
      "Epoch 40/100, Error: 0.0196\n",
      "Epoch 41/100, Error: 0.0195\n",
      "Epoch 42/100, Error: 0.0193\n",
      "Epoch 43/100, Error: 0.0191\n",
      "Epoch 44/100, Error: 0.0189\n",
      "Epoch 45/100, Error: 0.0188\n",
      "Epoch 46/100, Error: 0.0186\n",
      "Epoch 47/100, Error: 0.0185\n",
      "Epoch 48/100, Error: 0.0183\n",
      "Epoch 49/100, Error: 0.0182\n",
      "Epoch 50/100, Error: 0.0181\n",
      "Epoch 51/100, Error: 0.0179\n",
      "Epoch 52/100, Error: 0.0178\n",
      "Epoch 53/100, Error: 0.0177\n",
      "Epoch 54/100, Error: 0.0176\n",
      "Epoch 55/100, Error: 0.0175\n",
      "Epoch 56/100, Error: 0.0173\n",
      "Epoch 57/100, Error: 0.0172\n",
      "Epoch 58/100, Error: 0.0171\n",
      "Epoch 59/100, Error: 0.0170\n",
      "Epoch 60/100, Error: 0.0169\n",
      "Epoch 61/100, Error: 0.0168\n",
      "Epoch 62/100, Error: 0.0167\n",
      "Epoch 63/100, Error: 0.0166\n",
      "Epoch 64/100, Error: 0.0165\n",
      "Epoch 65/100, Error: 0.0164\n",
      "Epoch 66/100, Error: 0.0164\n",
      "Epoch 67/100, Error: 0.0163\n",
      "Epoch 68/100, Error: 0.0162\n",
      "Epoch 69/100, Error: 0.0161\n",
      "Epoch 70/100, Error: 0.0160\n",
      "Epoch 71/100, Error: 0.0159\n",
      "Epoch 72/100, Error: 0.0159\n",
      "Epoch 73/100, Error: 0.0158\n",
      "Epoch 74/100, Error: 0.0157\n",
      "Epoch 75/100, Error: 0.0156\n",
      "Epoch 76/100, Error: 0.0155\n",
      "Epoch 77/100, Error: 0.0155\n",
      "Epoch 78/100, Error: 0.0154\n",
      "Epoch 79/100, Error: 0.0153\n",
      "Epoch 80/100, Error: 0.0153\n",
      "Epoch 81/100, Error: 0.0152\n",
      "Epoch 82/100, Error: 0.0151\n",
      "Epoch 83/100, Error: 0.0151\n",
      "Epoch 84/100, Error: 0.0150\n",
      "Epoch 85/100, Error: 0.0149\n",
      "Epoch 86/100, Error: 0.0149\n",
      "Epoch 87/100, Error: 0.0148\n",
      "Epoch 88/100, Error: 0.0147\n",
      "Epoch 89/100, Error: 0.0147\n",
      "Epoch 90/100, Error: 0.0146\n",
      "Epoch 91/100, Error: 0.0145\n",
      "Epoch 92/100, Error: 0.0145\n",
      "Epoch 93/100, Error: 0.0144\n",
      "Epoch 94/100, Error: 0.0144\n",
      "Epoch 95/100, Error: 0.0143\n",
      "Epoch 96/100, Error: 0.0142\n",
      "Epoch 97/100, Error: 0.0142\n",
      "Epoch 98/100, Error: 0.0141\n",
      "Epoch 99/100, Error: 0.0141\n",
      "Epoch 100/100, Error: 0.0140\n"
     ]
    }
   ],
   "execution_count": 20
  },
  {
   "metadata": {
    "ExecuteTime": {
     "end_time": "2025-06-27T02:52:45.925327Z",
     "start_time": "2025-06-27T02:52:45.289922Z"
    }
   },
   "cell_type": "code",
   "source": [
    "y_pred_list = []\n",
    "y_true_list = []\n",
    "\n",
    "for x, y in zip(x_test, y_test):\n",
    "    output = predict(network, x)\n",
    "    y_pred_list.append(np.argmax(output))\n",
    "    y_true_list.append(np.argmax(y))\n",
    "\n",
    "accuracy = accuracy_score(y_true_list, y_pred_list)\n",
    "print(f\"Accuracy): {accuracy * 100:.2f}%\\n\")"
   ],
   "id": "8126a4631d26481c",
   "outputs": [
    {
     "name": "stdout",
     "output_type": "stream",
     "text": [
      "Accuracy): 94.40%\n",
      "\n"
     ]
    }
   ],
   "execution_count": 28
  },
  {
   "metadata": {},
   "cell_type": "markdown",
   "source": "### We achieved 94.4% accuracy on 500 test samples, lets check the classification report and confusion matrix",
   "id": "5f95b0bc8b63b4a9"
  },
  {
   "metadata": {
    "ExecuteTime": {
     "end_time": "2025-06-27T02:26:57.005153Z",
     "start_time": "2025-06-27T02:26:56.981875Z"
    }
   },
   "cell_type": "code",
   "source": [
    "print(\"Classification report:\")\n",
    "print(classification_report(y_true_list, y_pred_list))"
   ],
   "id": "a66c162bc37bc168",
   "outputs": [
    {
     "name": "stdout",
     "output_type": "stream",
     "text": [
      "Classification report:\n",
      "              precision    recall  f1-score   support\n",
      "\n",
      "           0       0.93      1.00      0.97        42\n",
      "           1       0.99      1.00      0.99        67\n",
      "           2       0.98      0.91      0.94        55\n",
      "           3       0.93      0.93      0.93        45\n",
      "           4       0.98      0.96      0.97        55\n",
      "           5       0.96      0.90      0.93        50\n",
      "           6       0.91      0.93      0.92        43\n",
      "           7       0.90      0.94      0.92        49\n",
      "           8       0.88      0.95      0.92        40\n",
      "           9       0.94      0.91      0.92        54\n",
      "\n",
      "    accuracy                           0.94       500\n",
      "   macro avg       0.94      0.94      0.94       500\n",
      "weighted avg       0.95      0.94      0.94       500\n",
      "\n"
     ]
    }
   ],
   "execution_count": 22
  },
  {
   "metadata": {
    "ExecuteTime": {
     "end_time": "2025-06-27T02:31:07.063191Z",
     "start_time": "2025-06-27T02:31:07.046390Z"
    }
   },
   "cell_type": "code",
   "source": "print(confusion_matrix(y_true_list, y_pred_list))",
   "id": "99ab2de678e71cfe",
   "outputs": [
    {
     "name": "stdout",
     "output_type": "stream",
     "text": [
      "[[42  0  0  0  0  0  0  0  0  0]\n",
      " [ 0 67  0  0  0  0  0  0  0  0]\n",
      " [ 0  0 50  0  0  0  0  2  1  2]\n",
      " [ 0  0  0 42  0  1  1  1  0  0]\n",
      " [ 0  0  0  0 53  0  2  0  0  0]\n",
      " [ 1  0  0  2  0 45  1  0  1  0]\n",
      " [ 2  0  0  0  0  1 40  0  0  0]\n",
      " [ 0  1  1  0  1  0  0 46  0  0]\n",
      " [ 0  0  0  0  0  0  0  1 38  1]\n",
      " [ 0  0  0  1  0  0  0  1  3 49]]\n"
     ]
    }
   ],
   "execution_count": 23
  },
  {
   "metadata": {},
   "cell_type": "markdown",
   "source": "### lets decode",
   "id": "126a2e3b7622f1b5"
  },
  {
   "metadata": {
    "ExecuteTime": {
     "end_time": "2025-06-27T02:40:58.950492Z",
     "start_time": "2025-06-27T02:40:58.928748Z"
    }
   },
   "cell_type": "code",
   "source": [
    "errors = []\n",
    "cm = confusion_matrix(y_true_list, y_pred_list)\n",
    "\n",
    "for true_label in range(cm.shape[0]):\n",
    "    for pred_label in range(cm.shape[0]):\n",
    "\n",
    "        if true_label != pred_label:\n",
    "\n",
    "            error_count = cm[true_label, pred_label]\n",
    "\n",
    "            if error_count > 0:\n",
    "                errors.append({\n",
    "                    'count': error_count,\n",
    "                    'true': true_label,\n",
    "                    'pred': pred_label\n",
    "                })\n",
    "\n",
    "sorted_errors = sorted(errors, key=lambda e: e['count'], reverse=True)\n",
    "\n",
    "if not sorted_errors:\n",
    "    print(\"no any mistakes found\")\n",
    "else:\n",
    "    print(\"Most fequent errors:\\n\")\n",
    "    for error in sorted_errors:\n",
    "        print(f\"  - Real digit '{error['true']}' missmatched with '{error['pred']}'   - {error['count']} times\")\n"
   ],
   "id": "96780f0a2d77fbbb",
   "outputs": [
    {
     "name": "stdout",
     "output_type": "stream",
     "text": [
      "Most fequent errors:\n",
      "\n",
      "  - Real digit '9' missmatched with '8'   - 3 times\n",
      "  - Real digit '2' missmatched with '7'   - 2 times\n",
      "  - Real digit '2' missmatched with '9'   - 2 times\n",
      "  - Real digit '4' missmatched with '6'   - 2 times\n",
      "  - Real digit '5' missmatched with '3'   - 2 times\n",
      "  - Real digit '6' missmatched with '0'   - 2 times\n",
      "  - Real digit '2' missmatched with '8'   - 1 times\n",
      "  - Real digit '3' missmatched with '5'   - 1 times\n",
      "  - Real digit '3' missmatched with '6'   - 1 times\n",
      "  - Real digit '3' missmatched with '7'   - 1 times\n",
      "  - Real digit '5' missmatched with '0'   - 1 times\n",
      "  - Real digit '5' missmatched with '6'   - 1 times\n",
      "  - Real digit '5' missmatched with '8'   - 1 times\n",
      "  - Real digit '6' missmatched with '5'   - 1 times\n",
      "  - Real digit '7' missmatched with '1'   - 1 times\n",
      "  - Real digit '7' missmatched with '2'   - 1 times\n",
      "  - Real digit '7' missmatched with '4'   - 1 times\n",
      "  - Real digit '8' missmatched with '7'   - 1 times\n",
      "  - Real digit '8' missmatched with '9'   - 1 times\n",
      "  - Real digit '9' missmatched with '3'   - 1 times\n",
      "  - Real digit '9' missmatched with '7'   - 1 times\n"
     ]
    }
   ],
   "execution_count": 24
  },
  {
   "metadata": {
    "ExecuteTime": {
     "end_time": "2025-06-27T02:51:13.377161Z",
     "start_time": "2025-06-27T02:51:13.092682Z"
    }
   },
   "cell_type": "code",
   "source": [
    "TRUE_LABEL_TO_INSPECT = 9\n",
    "\n",
    "PRED_LABEL_TO_INSPECT = 8\n",
    "\n",
    "(x_train_orig, y_train_orig), (x_test_orig, y_test_orig) = mnist.load_data()\n",
    "\n",
    "y_pred_list = []\n",
    "y_true_list = []\n",
    "for x, y in zip(x_test, y_test):\n",
    "    output = predict(network, x)\n",
    "    y_pred_list.append(np.argmax(output))\n",
    "    y_true_list.append(np.argmax(y))\n",
    "\n",
    "y_pred_array = np.array(y_pred_list)\n",
    "y_true_array = np.array(y_true_list)\n",
    "\n",
    "specific_error_indexes = np.where(\n",
    "    (y_true_array == TRUE_LABEL_TO_INSPECT) &\n",
    "    (y_pred_array == PRED_LABEL_TO_INSPECT)\n",
    ")[0]\n",
    "\n",
    "if len(specific_error_indexes) == 0:\n",
    "    print(f\"No errors '{TRUE_LABEL_TO_INSPECT}' with predicted '{PRED_LABEL_TO_INSPECT}'.\")\n",
    "else:\n",
    "    print(\n",
    "        f\"found {len(specific_error_indexes)} img, where real digit '{TRUE_LABEL_TO_INSPECT}' predicted as '{PRED_LABEL_TO_INSPECT}':\\n\")\n",
    "\n",
    "    num_to_show = min(len(specific_error_indexes), 16)\n",
    "    num_cols = 4\n",
    "    num_rows = (num_to_show + num_cols - 1) // num_cols\n",
    "\n",
    "    plt.figure(figsize=(10, 2.5 * num_rows))\n",
    "    for i, index in enumerate(specific_error_indexes[:num_to_show]):\n",
    "        plt.subplot(num_rows, num_cols, i + 1)\n",
    "\n",
    "        plt.imshow(x_test_orig[index], cmap='gray')\n",
    "\n",
    "        plt.title(f\"index: {index}\\nTrue: {TRUE_LABEL_TO_INSPECT}, Predicted: {PRED_LABEL_TO_INSPECT}\")\n",
    "        plt.axis('off')\n",
    "\n",
    "    plt.tight_layout()\n",
    "    plt.show()"
   ],
   "id": "d43cad761ab7e59e",
   "outputs": [
    {
     "name": "stdout",
     "output_type": "stream",
     "text": [
      "found 3 img, where real digit '9' predicted as '8':\n",
      "\n"
     ]
    },
    {
     "data": {
      "text/plain": [
       "<Figure size 1000x250 with 3 Axes>"
      ],
      "image/png": "[encoded data removed]"
     },
     "metadata": {},
     "output_type": "display_data"
    }
   ],
   "execution_count": 27
  },
  {
   "metadata": {},
   "cell_type": "markdown",
   "source": "### lets feed our model with the rest of data",
   "id": "5cfd2d419f07d3c8"
  },
  {
   "metadata": {
    "ExecuteTime": {
     "end_time": "2025-06-27T03:19:44.501197Z",
     "start_time": "2025-06-27T03:17:44.052821Z"
    }
   },
   "cell_type": "code",
   "source": [
    "remaining_x_train = x_train_orig[30000:]\n",
    "remaining_y_train = y_train_orig[30000:]\n",
    "\n",
    "x_train_remaining_processed, y_train_remaining_processed = preprocessing(\n",
    "    remaining_x_train,\n",
    "    remaining_y_train,\n",
    "    len(remaining_x_train)\n",
    ")\n",
    "\n",
    "train(\n",
    "    network,\n",
    "    mse_loss,\n",
    "    mse_loss_derivative,\n",
    "    x_train_remaining_processed,\n",
    "    y_train_remaining_processed,\n",
    "    epochs=20,\n",
    "    learning_rate=0.001\n",
    ")\n",
    "\n",
    "print(\"Training on remaining data completed.\")"
   ],
   "id": "6f32f578033d91d6",
   "outputs": [
    {
     "name": "stdout",
     "output_type": "stream",
     "text": [
      "Epoch 1/20, Error: 0.0153\n",
      "Epoch 2/20, Error: 0.0151\n",
      "Epoch 3/20, Error: 0.0150\n",
      "Epoch 4/20, Error: 0.0149\n",
      "Epoch 5/20, Error: 0.0148\n",
      "Epoch 6/20, Error: 0.0147\n",
      "Epoch 7/20, Error: 0.0146\n",
      "Epoch 8/20, Error: 0.0145\n",
      "Epoch 9/20, Error: 0.0145\n",
      "Epoch 10/20, Error: 0.0144\n",
      "Epoch 11/20, Error: 0.0143\n",
      "Epoch 12/20, Error: 0.0142\n",
      "Epoch 13/20, Error: 0.0142\n",
      "Epoch 14/20, Error: 0.0141\n",
      "Epoch 15/20, Error: 0.0140\n",
      "Epoch 16/20, Error: 0.0140\n",
      "Epoch 17/20, Error: 0.0139\n",
      "Epoch 18/20, Error: 0.0138\n",
      "Epoch 19/20, Error: 0.0138\n",
      "Epoch 20/20, Error: 0.0137\n",
      "Training on remaining data completed.\n"
     ]
    }
   ],
   "execution_count": 29
  },
  {
   "metadata": {},
   "cell_type": "markdown",
   "source": "### our model shows good results, lets check the accuracy again",
   "id": "a35426a44ebeb3a4"
  },
  {
   "metadata": {
    "ExecuteTime": {
     "end_time": "2025-06-27T03:36:16.657525Z",
     "start_time": "2025-06-27T03:36:16.595292Z"
    }
   },
   "cell_type": "code",
   "source": [
    "x_test_new, y_test_new = x_test_orig[500:], y_test_orig[500:]\n",
    "y_pred_list = []\n",
    "y_true_list = []\n",
    "\n",
    "for x, y in zip(x_test, y_test):\n",
    "    output = predict(network, x)\n",
    "    y_pred_list.append(np.argmax(output))\n",
    "    y_true_list.append(np.argmax(y))\n",
    "\n",
    "accuracy = accuracy_score(y_true_list, y_pred_list)\n",
    "print(f\"Accuracy): {accuracy * 100:.2f}%\\n\")"
   ],
   "id": "88937205b7048df",
   "outputs": [
    {
     "name": "stdout",
     "output_type": "stream",
     "text": [
      "Accuracy): 94.60%\n",
      "\n"
     ]
    }
   ],
   "execution_count": 30
  },
  {
   "metadata": {},
   "cell_type": "markdown",
   "source": "### After we feeded our model with the rest of data, we achieved only 94.6% accuracy, so lets try to change our architecture",
   "id": "3ea934589410d500"
  },
  {
   "metadata": {
    "ExecuteTime": {
     "end_time": "2025-06-27T04:51:51.180280Z",
     "start_time": "2025-06-27T04:51:51.165987Z"
    }
   },
   "cell_type": "code",
   "source": [
    "network_2 = [\n",
    "    Dense(28 * 28, 128),\n",
    "    ReLU(),\n",
    "\n",
    "    Dense(128, 64),\n",
    "    ReLU(),\n",
    "\n",
    "    Dense(64, 10),\n",
    "]"
   ],
   "id": "3be93ea1c1e45ca4",
   "outputs": [],
   "execution_count": 42
  },
  {
   "metadata": {
    "ExecuteTime": {
     "end_time": "2025-06-27T05:17:34.359246Z",
     "start_time": "2025-06-27T05:17:34.151040Z"
    }
   },
   "cell_type": "code",
   "source": [
    "(x_train, y_train), (x_test, y_test) = mnist.load_data()\n",
    "x_train, y_train = preprocessing(x_train, y_train, 30000)\n",
    "x_test, y_test = preprocessing(x_test, y_test, 1000)"
   ],
   "id": "6b91340d66c98167",
   "outputs": [],
   "execution_count": 3
  },
  {
   "metadata": {
    "ExecuteTime": {
     "end_time": "2025-06-27T05:03:51.136150Z",
     "start_time": "2025-06-27T04:52:01.350581Z"
    }
   },
   "cell_type": "code",
   "source": "train(network_2, mse_loss, mse_loss_derivative, x_train, y_train, epochs=100, learning_rate=0.005)",
   "id": "1784ae99ad358165",
   "outputs": [
    {
     "name": "stdout",
     "output_type": "stream",
     "text": [
      "Epoch 1/100, Error: 0.0402\n",
      "Epoch 2/100, Error: 0.0231\n",
      "Epoch 3/100, Error: 0.0189\n",
      "Epoch 4/100, Error: 0.0165\n",
      "Epoch 5/100, Error: 0.0149\n",
      "Epoch 6/100, Error: 0.0136\n",
      "Epoch 7/100, Error: 0.0126\n",
      "Epoch 8/100, Error: 0.0118\n",
      "Epoch 9/100, Error: 0.0111\n",
      "Epoch 10/100, Error: 0.0105\n",
      "Epoch 11/100, Error: 0.0100\n",
      "Epoch 12/100, Error: 0.0095\n",
      "Epoch 13/100, Error: 0.0091\n",
      "Epoch 14/100, Error: 0.0087\n",
      "Epoch 15/100, Error: 0.0083\n",
      "Epoch 16/100, Error: 0.0080\n",
      "Epoch 17/100, Error: 0.0077\n",
      "Epoch 18/100, Error: 0.0075\n",
      "Epoch 19/100, Error: 0.0072\n",
      "Epoch 20/100, Error: 0.0070\n",
      "Epoch 21/100, Error: 0.0068\n",
      "Epoch 22/100, Error: 0.0066\n",
      "Epoch 23/100, Error: 0.0064\n",
      "Epoch 24/100, Error: 0.0062\n",
      "Epoch 25/100, Error: 0.0061\n",
      "Epoch 26/100, Error: 0.0059\n",
      "Epoch 27/100, Error: 0.0058\n",
      "Epoch 28/100, Error: 0.0056\n",
      "Epoch 29/100, Error: 0.0055\n",
      "Epoch 30/100, Error: 0.0054\n",
      "Epoch 31/100, Error: 0.0053\n",
      "Epoch 32/100, Error: 0.0051\n",
      "Epoch 33/100, Error: 0.0050\n",
      "Epoch 34/100, Error: 0.0049\n",
      "Epoch 35/100, Error: 0.0048\n"
     ]
    },
    {
     "ename": "KeyboardInterrupt",
     "evalue": "",
     "output_type": "error",
     "traceback": [
      "\u001B[0;31m---------------------------------------------------------------------------\u001B[0m",
      "\u001B[0;31mKeyboardInterrupt\u001B[0m                         Traceback (most recent call last)",
      "Cell \u001B[0;32mIn[44], line 1\u001B[0m\n\u001B[0;32m----> 1\u001B[0m \u001B[43mtrain\u001B[49m\u001B[43m(\u001B[49m\u001B[43mnetwork_2\u001B[49m\u001B[43m,\u001B[49m\u001B[43m \u001B[49m\u001B[43mmse_loss\u001B[49m\u001B[43m,\u001B[49m\u001B[43m \u001B[49m\u001B[43mmse_loss_derivative\u001B[49m\u001B[43m,\u001B[49m\u001B[43m \u001B[49m\u001B[43mx_train\u001B[49m\u001B[43m,\u001B[49m\u001B[43m \u001B[49m\u001B[43my_train\u001B[49m\u001B[43m,\u001B[49m\u001B[43m \u001B[49m\u001B[43mepochs\u001B[49m\u001B[38;5;241;43m=\u001B[39;49m\u001B[38;5;241;43m100\u001B[39;49m\u001B[43m,\u001B[49m\u001B[43m \u001B[49m\u001B[43mlearning_rate\u001B[49m\u001B[38;5;241;43m=\u001B[39;49m\u001B[38;5;241;43m0.005\u001B[39;49m\u001B[43m)\u001B[49m\n",
      "File \u001B[0;32m~/PycharmProjects/neural_network_from_scratch/engine.py:13\u001B[0m, in \u001B[0;36mtrain\u001B[0;34m(network, loss_function, loss_derivative, X_train, y_train, epochs, learning_rate, verbose)\u001B[0m\n\u001B[1;32m     10\u001B[0m error \u001B[38;5;241m=\u001B[39m \u001B[38;5;241m0\u001B[39m\n\u001B[1;32m     11\u001B[0m \u001B[38;5;28;01mfor\u001B[39;00m x, y \u001B[38;5;129;01min\u001B[39;00m \u001B[38;5;28mzip\u001B[39m(X_train, y_train):\n\u001B[1;32m     12\u001B[0m     \u001B[38;5;66;03m# forward pass\u001B[39;00m\n\u001B[0;32m---> 13\u001B[0m     output \u001B[38;5;241m=\u001B[39m \u001B[43mpredict\u001B[49m\u001B[43m(\u001B[49m\u001B[43mnetwork\u001B[49m\u001B[43m,\u001B[49m\u001B[43m \u001B[49m\u001B[43mx\u001B[49m\u001B[43m)\u001B[49m\n\u001B[1;32m     15\u001B[0m     \u001B[38;5;66;03m# error calculation\u001B[39;00m\n\u001B[1;32m     16\u001B[0m     error \u001B[38;5;241m+\u001B[39m\u001B[38;5;241m=\u001B[39m loss_function(y, output)\n",
      "File \u001B[0;32m~/PycharmProjects/neural_network_from_scratch/engine.py:4\u001B[0m, in \u001B[0;36mpredict\u001B[0;34m(network, input)\u001B[0m\n\u001B[1;32m      2\u001B[0m output \u001B[38;5;241m=\u001B[39m \u001B[38;5;28minput\u001B[39m\n\u001B[1;32m      3\u001B[0m \u001B[38;5;28;01mfor\u001B[39;00m layer \u001B[38;5;129;01min\u001B[39;00m network:\n\u001B[0;32m----> 4\u001B[0m     output \u001B[38;5;241m=\u001B[39m \u001B[43mlayer\u001B[49m\u001B[38;5;241;43m.\u001B[39;49m\u001B[43mforward\u001B[49m\u001B[43m(\u001B[49m\u001B[43moutput\u001B[49m\u001B[43m)\u001B[49m\n\u001B[1;32m      5\u001B[0m \u001B[38;5;28;01mreturn\u001B[39;00m output\n",
      "File \u001B[0;32m~/PycharmProjects/neural_network_from_scratch/dense.py:12\u001B[0m, in \u001B[0;36mDense.forward\u001B[0;34m(self, input)\u001B[0m\n\u001B[1;32m     10\u001B[0m \u001B[38;5;28;01mdef\u001B[39;00m \u001B[38;5;21mforward\u001B[39m(\u001B[38;5;28mself\u001B[39m, \u001B[38;5;28minput\u001B[39m):\n\u001B[1;32m     11\u001B[0m     \u001B[38;5;28mself\u001B[39m\u001B[38;5;241m.\u001B[39minput \u001B[38;5;241m=\u001B[39m \u001B[38;5;28minput\u001B[39m\n\u001B[0;32m---> 12\u001B[0m     \u001B[38;5;28;01mreturn\u001B[39;00m \u001B[43mnp\u001B[49m\u001B[38;5;241;43m.\u001B[39;49m\u001B[43mdot\u001B[49m\u001B[43m(\u001B[49m\u001B[38;5;28;43mself\u001B[39;49m\u001B[38;5;241;43m.\u001B[39;49m\u001B[43mweights\u001B[49m\u001B[38;5;241;43m.\u001B[39;49m\u001B[43mT\u001B[49m\u001B[43m,\u001B[49m\u001B[43m \u001B[49m\u001B[38;5;28;43minput\u001B[39;49m\u001B[43m)\u001B[49m \u001B[38;5;241m+\u001B[39m \u001B[38;5;28mself\u001B[39m\u001B[38;5;241m.\u001B[39mbias\n",
      "\u001B[0;31mKeyboardInterrupt\u001B[0m: "
     ]
    }
   ],
   "execution_count": 44
  },
  {
   "metadata": {
    "ExecuteTime": {
     "end_time": "2025-06-27T05:04:35.006606Z",
     "start_time": "2025-06-27T05:04:34.928363Z"
    }
   },
   "cell_type": "code",
   "source": [
    "y_pred_list = []\n",
    "y_true_list = []\n",
    "\n",
    "for x, y in zip(x_test, y_test):\n",
    "    output = predict(network_2, x)\n",
    "    y_pred_list.append(np.argmax(output))\n",
    "    y_true_list.append(np.argmax(y))\n",
    "\n",
    "accuracy = accuracy_score(y_true_list, y_pred_list)\n",
    "print(f\"Accuracy): {accuracy * 100:.2f}%\\n\")"
   ],
   "id": "dd55a83a8a01c01",
   "outputs": [
    {
     "name": "stdout",
     "output_type": "stream",
     "text": [
      "Accuracy): 96.90%\n",
      "\n"
     ]
    }
   ],
   "execution_count": 45
  },
  {
   "metadata": {},
   "cell_type": "markdown",
   "source": "### now we can see improvement, lets check the classification report and confusion matrix",
   "id": "34d9205de79263fd"
  },
  {
   "metadata": {
    "ExecuteTime": {
     "end_time": "2025-06-27T05:05:47.610319Z",
     "start_time": "2025-06-27T05:05:47.588489Z"
    }
   },
   "cell_type": "code",
   "source": [
    "print(\"Classification report:\")\n",
    "print(classification_report(y_true_list, y_pred_list))"
   ],
   "id": "7318c92eb54e2821",
   "outputs": [
    {
     "name": "stdout",
     "output_type": "stream",
     "text": [
      "Classification report:\n",
      "              precision    recall  f1-score   support\n",
      "\n",
      "           0       0.96      1.00      0.98        85\n",
      "           1       0.99      0.98      0.98       126\n",
      "           2       0.97      0.98      0.97       116\n",
      "           3       0.95      0.97      0.96       107\n",
      "           4       0.98      0.95      0.96       110\n",
      "           5       0.99      0.94      0.96        87\n",
      "           6       0.99      0.97      0.98        87\n",
      "           7       0.98      0.97      0.97        99\n",
      "           8       0.97      0.96      0.96        89\n",
      "           9       0.93      0.98      0.95        94\n",
      "\n",
      "    accuracy                           0.97      1000\n",
      "   macro avg       0.97      0.97      0.97      1000\n",
      "weighted avg       0.97      0.97      0.97      1000\n",
      "\n"
     ]
    }
   ],
   "execution_count": 46
  },
  {
   "metadata": {
    "ExecuteTime": {
     "end_time": "2025-06-27T05:08:41.158253Z",
     "start_time": "2025-06-27T05:08:41.137819Z"
    }
   },
   "cell_type": "code",
   "source": "print(confusion_matrix(y_true_list, y_pred_list))",
   "id": "21eb7f2f88085a54",
   "outputs": [
    {
     "name": "stdout",
     "output_type": "stream",
     "text": [
      "[[ 85   0   0   0   0   0   0   0   0   0]\n",
      " [  0 123   0   1   0   0   1   0   1   0]\n",
      " [  0   0 114   0   0   0   0   1   0   1]\n",
      " [  0   0   1 104   0   1   0   1   0   0]\n",
      " [  0   0   1   0 104   0   0   0   0   5]\n",
      " [  0   0   0   2   1  82   0   0   1   1]\n",
      " [  3   0   0   0   0   0  84   0   0   0]\n",
      " [  0   1   1   1   0   0   0  96   0   0]\n",
      " [  1   0   1   1   1   0   0   0  85   0]\n",
      " [  0   0   0   1   0   0   0   0   1  92]]\n"
     ]
    }
   ],
   "execution_count": 47
  },
  {
   "metadata": {
    "ExecuteTime": {
     "end_time": "2025-06-27T05:09:17.359534Z",
     "start_time": "2025-06-27T05:09:17.335823Z"
    }
   },
   "cell_type": "code",
   "source": [
    "errors = []\n",
    "cm = confusion_matrix(y_true_list, y_pred_list)\n",
    "\n",
    "for true_label in range(cm.shape[0]):\n",
    "    for pred_label in range(cm.shape[0]):\n",
    "\n",
    "        if true_label != pred_label:\n",
    "\n",
    "            error_count = cm[true_label, pred_label]\n",
    "\n",
    "            if error_count > 0:\n",
    "                errors.append({\n",
    "                    'count': error_count,\n",
    "                    'true': true_label,\n",
    "                    'pred': pred_label\n",
    "                })\n",
    "\n",
    "sorted_errors = sorted(errors, key=lambda e: e['count'], reverse=True)\n",
    "\n",
    "if not sorted_errors:\n",
    "    print(\"no any mistakes found\")\n",
    "else:\n",
    "    print(\"Most fequent errors:\\n\")\n",
    "    for error in sorted_errors:\n",
    "        print(f\"  - Real digit '{error['true']}' missmatched with '{error['pred']}'   - {error['count']} times\")"
   ],
   "id": "d7859365cdf1808",
   "outputs": [
    {
     "name": "stdout",
     "output_type": "stream",
     "text": [
      "Most fequent errors:\n",
      "\n",
      "  - Real digit '4' missmatched with '9'   - 5 times\n",
      "  - Real digit '6' missmatched with '0'   - 3 times\n",
      "  - Real digit '5' missmatched with '3'   - 2 times\n",
      "  - Real digit '1' missmatched with '3'   - 1 times\n",
      "  - Real digit '1' missmatched with '6'   - 1 times\n",
      "  - Real digit '1' missmatched with '8'   - 1 times\n",
      "  - Real digit '2' missmatched with '7'   - 1 times\n",
      "  - Real digit '2' missmatched with '9'   - 1 times\n",
      "  - Real digit '3' missmatched with '2'   - 1 times\n",
      "  - Real digit '3' missmatched with '5'   - 1 times\n",
      "  - Real digit '3' missmatched with '7'   - 1 times\n",
      "  - Real digit '4' missmatched with '2'   - 1 times\n",
      "  - Real digit '5' missmatched with '4'   - 1 times\n",
      "  - Real digit '5' missmatched with '8'   - 1 times\n",
      "  - Real digit '5' missmatched with '9'   - 1 times\n",
      "  - Real digit '7' missmatched with '1'   - 1 times\n",
      "  - Real digit '7' missmatched with '2'   - 1 times\n",
      "  - Real digit '7' missmatched with '3'   - 1 times\n",
      "  - Real digit '8' missmatched with '0'   - 1 times\n",
      "  - Real digit '8' missmatched with '2'   - 1 times\n",
      "  - Real digit '8' missmatched with '3'   - 1 times\n",
      "  - Real digit '8' missmatched with '4'   - 1 times\n",
      "  - Real digit '9' missmatched with '3'   - 1 times\n",
      "  - Real digit '9' missmatched with '8'   - 1 times\n"
     ]
    }
   ],
   "execution_count": 48
  },
  {
   "metadata": {
    "ExecuteTime": {
     "end_time": "2025-06-27T05:11:27.848593Z",
     "start_time": "2025-06-27T05:11:27.506403Z"
    }
   },
   "cell_type": "code",
   "source": [
    "TRUE_LABEL_TO_INSPECT = 4\n",
    "\n",
    "PRED_LABEL_TO_INSPECT = 9\n",
    "\n",
    "(x_train_orig, y_train_orig), (x_test_orig, y_test_orig) = mnist.load_data()\n",
    "\n",
    "y_pred_list = []\n",
    "y_true_list = []\n",
    "for x, y in zip(x_test, y_test):\n",
    "    output = predict(network, x)\n",
    "    y_pred_list.append(np.argmax(output))\n",
    "    y_true_list.append(np.argmax(y))\n",
    "\n",
    "y_pred_array = np.array(y_pred_list)\n",
    "y_true_array = np.array(y_true_list)\n",
    "\n",
    "specific_error_indexes = np.where(\n",
    "    (y_true_array == TRUE_LABEL_TO_INSPECT) &\n",
    "    (y_pred_array == PRED_LABEL_TO_INSPECT)\n",
    ")[0]\n",
    "\n",
    "if len(specific_error_indexes) == 0:\n",
    "    print(f\"No errors '{TRUE_LABEL_TO_INSPECT}' with predicted '{PRED_LABEL_TO_INSPECT}'.\")\n",
    "else:\n",
    "    print(\n",
    "        f\"found {len(specific_error_indexes)} img, where real digit '{TRUE_LABEL_TO_INSPECT}' predicted as '{PRED_LABEL_TO_INSPECT}':\\n\")\n",
    "\n",
    "    num_to_show = min(len(specific_error_indexes), 16)\n",
    "    num_cols = 4\n",
    "    num_rows = (num_to_show + num_cols - 1) // num_cols\n",
    "\n",
    "    plt.figure(figsize=(10, 2.5 * num_rows))\n",
    "    for i, index in enumerate(specific_error_indexes[:num_to_show]):\n",
    "        plt.subplot(num_rows, num_cols, i + 1)\n",
    "\n",
    "        plt.imshow(x_test_orig[index], cmap='gray')\n",
    "\n",
    "        plt.title(f\"index: {index}\\nTrue: {TRUE_LABEL_TO_INSPECT}, Predicted: {PRED_LABEL_TO_INSPECT}\")\n",
    "        plt.axis('off')\n",
    "\n",
    "    plt.tight_layout()\n",
    "    plt.show()"
   ],
   "id": "32e1b51cc0f23cfa",
   "outputs": [
    {
     "name": "stdout",
     "output_type": "stream",
     "text": [
      "found 5 img, where real digit '4' predicted as '9':\n",
      "\n"
     ]
    },
    {
     "data": {
      "text/plain": [
       "<Figure size 1000x500 with 5 Axes>"
      ],
      "image/png": "[encoded data removed]"
     },
     "metadata": {},
     "output_type": "display_data"
    }
   ],
   "execution_count": 50
  },
  {
   "metadata": {},
   "cell_type": "markdown",
   "source": "### lets try to add some dropout layers",
   "id": "5c847efe6ba226be"
  },
  {
   "metadata": {
    "ExecuteTime": {
     "end_time": "2025-06-27T05:17:42.234099Z",
     "start_time": "2025-06-27T05:17:42.225867Z"
    }
   },
   "cell_type": "code",
   "source": [
    "from activations import Dropout\n",
    "\n",
    "network_3 = [\n",
    "    Dense(28 * 28, 128),\n",
    "    ReLU(),\n",
    "    Dropout(0.5),\n",
    "\n",
    "    Dense(128, 64),\n",
    "    ReLU(),\n",
    "    Dropout(0.5),\n",
    "\n",
    "    Dense(64, 10)\n",
    "]"
   ],
   "id": "ffd618205c52f056",
   "outputs": [],
   "execution_count": 4
  },
  {
   "metadata": {
    "ExecuteTime": {
     "end_time": "2025-06-27T05:34:48.235291Z",
     "start_time": "2025-06-27T05:17:43.784818Z"
    }
   },
   "cell_type": "code",
   "source": "train(network_3, mse_loss, mse_loss_derivative, x_train, y_train, epochs=40, learning_rate=0.005)",
   "id": "54e5d3f94831de96",
   "outputs": [
    {
     "name": "stdout",
     "output_type": "stream",
     "text": [
      "Epoch 1/40, Error: 0.0956\n",
      "Epoch 2/40, Error: 0.0767\n",
      "Epoch 3/40, Error: 0.0698\n",
      "Epoch 4/40, Error: 0.0658\n",
      "Epoch 5/40, Error: 0.0627\n",
      "Epoch 6/40, Error: 0.0602\n",
      "Epoch 7/40, Error: 0.0580\n",
      "Epoch 8/40, Error: 0.0561\n",
      "Epoch 9/40, Error: 0.0548\n",
      "Epoch 10/40, Error: 0.0534\n",
      "Epoch 11/40, Error: 0.0523\n",
      "Epoch 12/40, Error: 0.0511\n",
      "Epoch 13/40, Error: 0.0505\n",
      "Epoch 14/40, Error: 0.0493\n",
      "Epoch 15/40, Error: 0.0486\n",
      "Epoch 16/40, Error: 0.0480\n",
      "Epoch 17/40, Error: 0.0474\n",
      "Epoch 18/40, Error: 0.0463\n",
      "Epoch 19/40, Error: 0.0461\n",
      "Epoch 20/40, Error: 0.0451\n",
      "Epoch 21/40, Error: 0.0447\n",
      "Epoch 22/40, Error: 0.0445\n",
      "Epoch 23/40, Error: 0.0436\n",
      "Epoch 24/40, Error: 0.0427\n",
      "Epoch 25/40, Error: 0.0428\n",
      "Epoch 26/40, Error: 0.0421\n",
      "Epoch 27/40, Error: 0.0415\n",
      "Epoch 28/40, Error: 0.0410\n",
      "Epoch 29/40, Error: 0.0406\n",
      "Epoch 30/40, Error: 0.0403\n",
      "Epoch 31/40, Error: 0.0402\n",
      "Epoch 32/40, Error: 0.0398\n",
      "Epoch 33/40, Error: 0.0394\n",
      "Epoch 34/40, Error: 0.0394\n",
      "Epoch 35/40, Error: 0.0389\n",
      "Epoch 36/40, Error: 0.0385\n",
      "Epoch 37/40, Error: 0.0385\n",
      "Epoch 38/40, Error: 0.0381\n",
      "Epoch 39/40, Error: 0.0379\n",
      "Epoch 40/40, Error: 0.0373\n"
     ]
    }
   ],
   "execution_count": 5
  },
  {
   "metadata": {
    "ExecuteTime": {
     "end_time": "2025-06-27T05:38:37.038760Z",
     "start_time": "2025-06-27T05:38:36.942781Z"
    }
   },
   "cell_type": "code",
   "source": [
    "from sklearn.metrics import classification_report, confusion_matrix, accuracy_score\n",
    "import matplotlib.pyplot as plt\n",
    "import seaborn as sns\n",
    "\n",
    "y_pred_list = []\n",
    "y_true_list = []\n",
    "\n",
    "for x, y in zip(x_test, y_test):\n",
    "    output = predict(network_3, x, training=False)\n",
    "    y_pred_list.append(np.argmax(output))\n",
    "    y_true_list.append(np.argmax(y))\n",
    "\n",
    "accuracy = accuracy_score(y_true_list, y_pred_list)\n",
    "print(f\"Accuracy): {accuracy * 100:.2f}%\\n\")"
   ],
   "id": "5bc4c2fb3059190c",
   "outputs": [
    {
     "name": "stdout",
     "output_type": "stream",
     "text": [
      "Accuracy): 91.10%\n",
      "\n"
     ]
    }
   ],
   "execution_count": 10
  },
  {
   "metadata": {
    "ExecuteTime": {
     "end_time": "2025-06-27T05:39:12.786054Z",
     "start_time": "2025-06-27T05:39:12.770155Z"
    }
   },
   "cell_type": "code",
   "source": [
    "print(\"Classification report:\")\n",
    "print(classification_report(y_true_list, y_pred_list))"
   ],
   "id": "a9e07c4dd01e049d",
   "outputs": [
    {
     "name": "stdout",
     "output_type": "stream",
     "text": [
      "Classification report:\n",
      "              precision    recall  f1-score   support\n",
      "\n",
      "           0       0.93      0.99      0.96        85\n",
      "           1       0.98      0.98      0.98       126\n",
      "           2       0.91      0.88      0.89       116\n",
      "           3       0.95      0.85      0.90       107\n",
      "           4       0.93      0.92      0.92       110\n",
      "           5       0.88      0.92      0.90        87\n",
      "           6       0.87      0.92      0.89        87\n",
      "           7       0.90      0.91      0.90        99\n",
      "           8       0.84      0.88      0.86        89\n",
      "           9       0.89      0.86      0.88        94\n",
      "\n",
      "    accuracy                           0.91      1000\n",
      "   macro avg       0.91      0.91      0.91      1000\n",
      "weighted avg       0.91      0.91      0.91      1000\n",
      "\n"
     ]
    }
   ],
   "execution_count": 11
  },
  {
   "metadata": {},
   "cell_type": "markdown",
   "source": "### Our model is underfitted, at first we can try increase epochs count",
   "id": "524ba0f02cc270e5"
  },
  {
   "metadata": {
    "ExecuteTime": {
     "end_time": "2025-06-27T05:44:33.944519Z",
     "start_time": "2025-06-27T05:44:33.928014Z"
    }
   },
   "cell_type": "code",
   "source": [
    "network_4 = [\n",
    "    Dense(28 * 28, 128),\n",
    "    ReLU(),\n",
    "    Dropout(0.5),\n",
    "\n",
    "    Dense(128, 64),\n",
    "    ReLU(),\n",
    "    Dropout(0.5),\n",
    "\n",
    "    Dense(64, 10)\n",
    "]"
   ],
   "id": "596fb65cd0e64914",
   "outputs": [],
   "execution_count": 12
  },
  {
   "metadata": {
    "ExecuteTime": {
     "end_time": "2025-06-27T06:11:55.172404Z",
     "start_time": "2025-06-27T05:44:54.267252Z"
    }
   },
   "cell_type": "code",
   "source": "train(network_4, mse_loss, mse_loss_derivative, x_train, y_train, epochs=120, learning_rate=0.005)",
   "id": "27b0859cb9310fd1",
   "outputs": [
    {
     "name": "stdout",
     "output_type": "stream",
     "text": [
      "Epoch 1/120, Error: 0.0957\n",
      "Epoch 2/120, Error: 0.0749\n",
      "Epoch 3/120, Error: 0.0679\n",
      "Epoch 4/120, Error: 0.0637\n",
      "Epoch 5/120, Error: 0.0608\n",
      "Epoch 6/120, Error: 0.0590\n",
      "Epoch 7/120, Error: 0.0572\n",
      "Epoch 8/120, Error: 0.0559\n",
      "Epoch 9/120, Error: 0.0547\n",
      "Epoch 10/120, Error: 0.0533\n",
      "Epoch 11/120, Error: 0.0520\n",
      "Epoch 12/120, Error: 0.0511\n",
      "Epoch 13/120, Error: 0.0499\n",
      "Epoch 14/120, Error: 0.0492\n",
      "Epoch 15/120, Error: 0.0487\n",
      "Epoch 16/120, Error: 0.0479\n",
      "Epoch 17/120, Error: 0.0473\n",
      "Epoch 18/120, Error: 0.0464\n",
      "Epoch 19/120, Error: 0.0460\n",
      "Epoch 20/120, Error: 0.0454\n",
      "Epoch 21/120, Error: 0.0447\n",
      "Epoch 22/120, Error: 0.0440\n",
      "Epoch 23/120, Error: 0.0434\n",
      "Epoch 24/120, Error: 0.0427\n",
      "Epoch 25/120, Error: 0.0425\n",
      "Epoch 26/120, Error: 0.0420\n",
      "Epoch 27/120, Error: 0.0416\n",
      "Epoch 28/120, Error: 0.0412\n",
      "Epoch 29/120, Error: 0.0407\n",
      "Epoch 30/120, Error: 0.0404\n",
      "Epoch 31/120, Error: 0.0402\n",
      "Epoch 32/120, Error: 0.0396\n",
      "Epoch 33/120, Error: 0.0393\n",
      "Epoch 34/120, Error: 0.0390\n",
      "Epoch 35/120, Error: 0.0392\n",
      "Epoch 36/120, Error: 0.0385\n",
      "Epoch 37/120, Error: 0.0381\n",
      "Epoch 38/120, Error: 0.0379\n",
      "Epoch 39/120, Error: 0.0377\n",
      "Epoch 40/120, Error: 0.0374\n",
      "Epoch 41/120, Error: 0.0372\n",
      "Epoch 42/120, Error: 0.0371\n",
      "Epoch 43/120, Error: 0.0370\n",
      "Epoch 44/120, Error: 0.0367\n",
      "Epoch 45/120, Error: 0.0366\n",
      "Epoch 46/120, Error: 0.0363\n",
      "Epoch 47/120, Error: 0.0361\n",
      "Epoch 48/120, Error: 0.0359\n",
      "Epoch 49/120, Error: 0.0357\n",
      "Epoch 50/120, Error: 0.0358\n",
      "Epoch 51/120, Error: 0.0352\n",
      "Epoch 52/120, Error: 0.0355\n",
      "Epoch 53/120, Error: 0.0349\n",
      "Epoch 54/120, Error: 0.0345\n",
      "Epoch 55/120, Error: 0.0347\n",
      "Epoch 56/120, Error: 0.0346\n",
      "Epoch 57/120, Error: 0.0342\n",
      "Epoch 58/120, Error: 0.0345\n",
      "Epoch 59/120, Error: 0.0345\n",
      "Epoch 60/120, Error: 0.0344\n",
      "Epoch 61/120, Error: 0.0338\n",
      "Epoch 62/120, Error: 0.0337\n",
      "Epoch 63/120, Error: 0.0339\n",
      "Epoch 64/120, Error: 0.0336\n",
      "Epoch 65/120, Error: 0.0334\n",
      "Epoch 66/120, Error: 0.0331\n",
      "Epoch 67/120, Error: 0.0333\n",
      "Epoch 68/120, Error: 0.0331\n",
      "Epoch 69/120, Error: 0.0332\n",
      "Epoch 70/120, Error: 0.0328\n",
      "Epoch 71/120, Error: 0.0327\n",
      "Epoch 72/120, Error: 0.0327\n",
      "Epoch 73/120, Error: 0.0324\n",
      "Epoch 74/120, Error: 0.0324\n",
      "Epoch 75/120, Error: 0.0324\n",
      "Epoch 76/120, Error: 0.0322\n",
      "Epoch 77/120, Error: 0.0324\n",
      "Epoch 78/120, Error: 0.0319\n",
      "Epoch 79/120, Error: 0.0317\n",
      "Epoch 80/120, Error: 0.0319\n",
      "Epoch 81/120, Error: 0.0317\n",
      "Epoch 82/120, Error: 0.0317\n",
      "Epoch 83/120, Error: 0.0315\n",
      "Epoch 84/120, Error: 0.0314\n",
      "Epoch 85/120, Error: 0.0315\n",
      "Epoch 86/120, Error: 0.0311\n",
      "Epoch 87/120, Error: 0.0309\n",
      "Epoch 88/120, Error: 0.0309\n",
      "Epoch 89/120, Error: 0.0309\n",
      "Epoch 90/120, Error: 0.0310\n",
      "Epoch 91/120, Error: 0.0308\n",
      "Epoch 92/120, Error: 0.0306\n",
      "Epoch 93/120, Error: 0.0308\n",
      "Epoch 94/120, Error: 0.0305\n"
     ]
    },
    {
     "ename": "KeyboardInterrupt",
     "evalue": "",
     "output_type": "error",
     "traceback": [
      "\u001B[0;31m---------------------------------------------------------------------------\u001B[0m",
      "\u001B[0;31mKeyboardInterrupt\u001B[0m                         Traceback (most recent call last)",
      "Cell \u001B[0;32mIn[13], line 1\u001B[0m\n\u001B[0;32m----> 1\u001B[0m \u001B[43mtrain\u001B[49m\u001B[43m(\u001B[49m\u001B[43mnetwork_4\u001B[49m\u001B[43m,\u001B[49m\u001B[43m \u001B[49m\u001B[43mmse_loss\u001B[49m\u001B[43m,\u001B[49m\u001B[43m \u001B[49m\u001B[43mmse_loss_derivative\u001B[49m\u001B[43m,\u001B[49m\u001B[43m \u001B[49m\u001B[43mx_train\u001B[49m\u001B[43m,\u001B[49m\u001B[43m \u001B[49m\u001B[43my_train\u001B[49m\u001B[43m,\u001B[49m\u001B[43m \u001B[49m\u001B[43mepochs\u001B[49m\u001B[38;5;241;43m=\u001B[39;49m\u001B[38;5;241;43m120\u001B[39;49m\u001B[43m,\u001B[49m\u001B[43m \u001B[49m\u001B[43mlearning_rate\u001B[49m\u001B[38;5;241;43m=\u001B[39;49m\u001B[38;5;241;43m0.005\u001B[39;49m\u001B[43m)\u001B[49m\n",
      "File \u001B[0;32m~/PycharmProjects/neural_network_from_scratch/engine.py:21\u001B[0m, in \u001B[0;36mtrain\u001B[0;34m(network, loss_function, loss_derivative, X_train, y_train, epochs, learning_rate, verbose)\u001B[0m\n\u001B[1;32m     19\u001B[0m     output_gradient \u001B[38;5;241m=\u001B[39m loss_derivative(y, output)\n\u001B[1;32m     20\u001B[0m     \u001B[38;5;28;01mfor\u001B[39;00m layer \u001B[38;5;129;01min\u001B[39;00m \u001B[38;5;28mreversed\u001B[39m(network):\n\u001B[0;32m---> 21\u001B[0m         output_gradient \u001B[38;5;241m=\u001B[39m \u001B[43mlayer\u001B[49m\u001B[38;5;241;43m.\u001B[39;49m\u001B[43mbackward\u001B[49m\u001B[43m(\u001B[49m\u001B[43moutput_gradient\u001B[49m\u001B[43m,\u001B[49m\u001B[43m \u001B[49m\u001B[43mlearning_rate\u001B[49m\u001B[43m)\u001B[49m\n\u001B[1;32m     23\u001B[0m error \u001B[38;5;241m/\u001B[39m\u001B[38;5;241m=\u001B[39m \u001B[38;5;28mlen\u001B[39m(X_train)\n\u001B[1;32m     25\u001B[0m \u001B[38;5;28;01mif\u001B[39;00m verbose:\n",
      "\u001B[0;31mKeyboardInterrupt\u001B[0m: "
     ]
    }
   ],
   "execution_count": 13
  },
  {
   "metadata": {
    "ExecuteTime": {
     "end_time": "2025-06-27T06:12:24.588293Z",
     "start_time": "2025-06-27T06:12:23.835403Z"
    }
   },
   "cell_type": "code",
   "source": [
    "y_pred_list = []\n",
    "y_true_list = []\n",
    "\n",
    "for x, y in zip(x_test, y_test):\n",
    "    output = predict(network_4, x, training=False)\n",
    "    y_pred_list.append(np.argmax(output))\n",
    "    y_true_list.append(np.argmax(y))\n",
    "\n",
    "accuracy = accuracy_score(y_true_list, y_pred_list)\n",
    "print(f\"Accuracy): {accuracy * 100:.2f}%\\n\")"
   ],
   "id": "cedc7495c9d6ac8a",
   "outputs": [
    {
     "name": "stdout",
     "output_type": "stream",
     "text": [
      "Accuracy): 93.00%\n",
      "\n"
     ]
    }
   ],
   "execution_count": 15
  },
  {
   "metadata": {},
   "cell_type": "markdown",
   "source": "### Model improved but it seems that dropout rate is too high, lets try to reduce it",
   "id": "c72844812ee7f80f"
  },
  {
   "metadata": {
    "ExecuteTime": {
     "end_time": "2025-06-27T06:14:36.033537Z",
     "start_time": "2025-06-27T06:14:36.021624Z"
    }
   },
   "cell_type": "code",
   "source": [
    "network_5 = [\n",
    "    Dense(28 * 28, 128),\n",
    "    ReLU(),\n",
    "    Dropout(0.2),\n",
    "\n",
    "    Dense(128, 64),\n",
    "    ReLU(),\n",
    "    Dropout(0.2),\n",
    "\n",
    "    Dense(64, 10)\n",
    "]"
   ],
   "id": "5ea92aae5efae1d6",
   "outputs": [],
   "execution_count": 16
  },
  {
   "metadata": {
    "ExecuteTime": {
     "end_time": "2025-06-27T07:55:25.214985Z",
     "start_time": "2025-06-27T06:14:55.370279Z"
    }
   },
   "cell_type": "code",
   "source": "train(network_5, mse_loss, mse_loss_derivative, x_train, y_train, epochs=120, learning_rate=0.005)",
   "id": "1715507c432f9629",
   "outputs": [
    {
     "name": "stdout",
     "output_type": "stream",
     "text": [
      "Epoch 1/120, Error: 0.0641\n",
      "Epoch 2/120, Error: 0.0421\n",
      "Epoch 3/120, Error: 0.0351\n",
      "Epoch 4/120, Error: 0.0310\n",
      "Epoch 5/120, Error: 0.0285\n",
      "Epoch 6/120, Error: 0.0267\n",
      "Epoch 7/120, Error: 0.0255\n",
      "Epoch 8/120, Error: 0.0241\n",
      "Epoch 9/120, Error: 0.0232\n",
      "Epoch 10/120, Error: 0.0221\n",
      "Epoch 11/120, Error: 0.0214\n",
      "Epoch 12/120, Error: 0.0207\n",
      "Epoch 13/120, Error: 0.0203\n",
      "Epoch 14/120, Error: 0.0195\n",
      "Epoch 15/120, Error: 0.0192\n",
      "Epoch 16/120, Error: 0.0186\n",
      "Epoch 17/120, Error: 0.0183\n",
      "Epoch 18/120, Error: 0.0180\n",
      "Epoch 19/120, Error: 0.0174\n",
      "Epoch 20/120, Error: 0.0173\n",
      "Epoch 21/120, Error: 0.0169\n",
      "Epoch 22/120, Error: 0.0167\n",
      "Epoch 23/120, Error: 0.0164\n",
      "Epoch 24/120, Error: 0.0161\n",
      "Epoch 25/120, Error: 0.0157\n",
      "Epoch 26/120, Error: 0.0157\n",
      "Epoch 27/120, Error: 0.0155\n",
      "Epoch 28/120, Error: 0.0154\n",
      "Epoch 29/120, Error: 0.0152\n",
      "Epoch 30/120, Error: 0.0149\n",
      "Epoch 31/120, Error: 0.0149\n",
      "Epoch 32/120, Error: 0.0147\n",
      "Epoch 33/120, Error: 0.0144\n",
      "Epoch 34/120, Error: 0.0145\n",
      "Epoch 35/120, Error: 0.0143\n",
      "Epoch 36/120, Error: 0.0142\n",
      "Epoch 37/120, Error: 0.0141\n",
      "Epoch 38/120, Error: 0.0137\n",
      "Epoch 39/120, Error: 0.0137\n",
      "Epoch 40/120, Error: 0.0138\n",
      "Epoch 41/120, Error: 0.0135\n",
      "Epoch 42/120, Error: 0.0135\n",
      "Epoch 43/120, Error: 0.0135\n",
      "Epoch 44/120, Error: 0.0132\n",
      "Epoch 45/120, Error: 0.0131\n",
      "Epoch 46/120, Error: 0.0132\n",
      "Epoch 47/120, Error: 0.0130\n",
      "Epoch 48/120, Error: 0.0129\n",
      "Epoch 49/120, Error: 0.0128\n",
      "Epoch 50/120, Error: 0.0126\n",
      "Epoch 51/120, Error: 0.0126\n",
      "Epoch 52/120, Error: 0.0127\n",
      "Epoch 53/120, Error: 0.0125\n",
      "Epoch 54/120, Error: 0.0124\n",
      "Epoch 55/120, Error: 0.0124\n",
      "Epoch 56/120, Error: 0.0125\n",
      "Epoch 57/120, Error: 0.0122\n",
      "Epoch 58/120, Error: 0.0122\n",
      "Epoch 59/120, Error: 0.0121\n",
      "Epoch 60/120, Error: 0.0121\n",
      "Epoch 61/120, Error: 0.0120\n",
      "Epoch 62/120, Error: 0.0120\n",
      "Epoch 63/120, Error: 0.0120\n",
      "Epoch 64/120, Error: 0.0118\n",
      "Epoch 65/120, Error: 0.0117\n",
      "Epoch 66/120, Error: 0.0117\n",
      "Epoch 67/120, Error: 0.0116\n",
      "Epoch 68/120, Error: 0.0117\n",
      "Epoch 69/120, Error: 0.0116\n",
      "Epoch 70/120, Error: 0.0116\n",
      "Epoch 71/120, Error: 0.0115\n",
      "Epoch 72/120, Error: 0.0113\n",
      "Epoch 73/120, Error: 0.0113\n",
      "Epoch 74/120, Error: 0.0114\n",
      "Epoch 75/120, Error: 0.0113\n",
      "Epoch 76/120, Error: 0.0112\n",
      "Epoch 77/120, Error: 0.0112\n",
      "Epoch 78/120, Error: 0.0112\n",
      "Epoch 79/120, Error: 0.0112\n",
      "Epoch 80/120, Error: 0.0109\n",
      "Epoch 81/120, Error: 0.0111\n",
      "Epoch 82/120, Error: 0.0110\n",
      "Epoch 83/120, Error: 0.0110\n",
      "Epoch 84/120, Error: 0.0108\n",
      "Epoch 85/120, Error: 0.0109\n",
      "Epoch 86/120, Error: 0.0109\n",
      "Epoch 87/120, Error: 0.0107\n",
      "Epoch 88/120, Error: 0.0109\n",
      "Epoch 89/120, Error: 0.0106\n",
      "Epoch 90/120, Error: 0.0106\n",
      "Epoch 91/120, Error: 0.0107\n",
      "Epoch 92/120, Error: 0.0106\n",
      "Epoch 93/120, Error: 0.0106\n",
      "Epoch 94/120, Error: 0.0106\n",
      "Epoch 95/120, Error: 0.0105\n",
      "Epoch 96/120, Error: 0.0105\n",
      "Epoch 97/120, Error: 0.0104\n",
      "Epoch 98/120, Error: 0.0105\n",
      "Epoch 99/120, Error: 0.0103\n",
      "Epoch 100/120, Error: 0.0104\n",
      "Epoch 101/120, Error: 0.0102\n",
      "Epoch 102/120, Error: 0.0103\n",
      "Epoch 103/120, Error: 0.0102\n",
      "Epoch 104/120, Error: 0.0103\n",
      "Epoch 105/120, Error: 0.0104\n",
      "Epoch 106/120, Error: 0.0101\n",
      "Epoch 107/120, Error: 0.0101\n",
      "Epoch 108/120, Error: 0.0103\n",
      "Epoch 109/120, Error: 0.0101\n",
      "Epoch 110/120, Error: 0.0100\n",
      "Epoch 111/120, Error: 0.0101\n",
      "Epoch 112/120, Error: 0.0100\n",
      "Epoch 113/120, Error: 0.0100\n",
      "Epoch 114/120, Error: 0.0101\n"
     ]
    },
    {
     "ename": "KeyboardInterrupt",
     "evalue": "",
     "output_type": "error",
     "traceback": [
      "\u001B[0;31m---------------------------------------------------------------------------\u001B[0m",
      "\u001B[0;31mKeyboardInterrupt\u001B[0m                         Traceback (most recent call last)",
      "Cell \u001B[0;32mIn[17], line 1\u001B[0m\n\u001B[0;32m----> 1\u001B[0m \u001B[43mtrain\u001B[49m\u001B[43m(\u001B[49m\u001B[43mnetwork_5\u001B[49m\u001B[43m,\u001B[49m\u001B[43m \u001B[49m\u001B[43mmse_loss\u001B[49m\u001B[43m,\u001B[49m\u001B[43m \u001B[49m\u001B[43mmse_loss_derivative\u001B[49m\u001B[43m,\u001B[49m\u001B[43m \u001B[49m\u001B[43mx_train\u001B[49m\u001B[43m,\u001B[49m\u001B[43m \u001B[49m\u001B[43my_train\u001B[49m\u001B[43m,\u001B[49m\u001B[43m \u001B[49m\u001B[43mepochs\u001B[49m\u001B[38;5;241;43m=\u001B[39;49m\u001B[38;5;241;43m120\u001B[39;49m\u001B[43m,\u001B[49m\u001B[43m \u001B[49m\u001B[43mlearning_rate\u001B[49m\u001B[38;5;241;43m=\u001B[39;49m\u001B[38;5;241;43m0.005\u001B[39;49m\u001B[43m)\u001B[49m\n",
      "File \u001B[0;32m~/PycharmProjects/neural_network_from_scratch/engine.py:21\u001B[0m, in \u001B[0;36mtrain\u001B[0;34m(network, loss_function, loss_derivative, X_train, y_train, epochs, learning_rate, verbose)\u001B[0m\n\u001B[1;32m     19\u001B[0m     output_gradient \u001B[38;5;241m=\u001B[39m loss_derivative(y, output)\n\u001B[1;32m     20\u001B[0m     \u001B[38;5;28;01mfor\u001B[39;00m layer \u001B[38;5;129;01min\u001B[39;00m \u001B[38;5;28mreversed\u001B[39m(network):\n\u001B[0;32m---> 21\u001B[0m         output_gradient \u001B[38;5;241m=\u001B[39m \u001B[43mlayer\u001B[49m\u001B[38;5;241;43m.\u001B[39;49m\u001B[43mbackward\u001B[49m\u001B[43m(\u001B[49m\u001B[43moutput_gradient\u001B[49m\u001B[43m,\u001B[49m\u001B[43m \u001B[49m\u001B[43mlearning_rate\u001B[49m\u001B[43m)\u001B[49m\n\u001B[1;32m     23\u001B[0m error \u001B[38;5;241m/\u001B[39m\u001B[38;5;241m=\u001B[39m \u001B[38;5;28mlen\u001B[39m(X_train)\n\u001B[1;32m     25\u001B[0m \u001B[38;5;28;01mif\u001B[39;00m verbose:\n",
      "\u001B[0;31mKeyboardInterrupt\u001B[0m: "
     ]
    }
   ],
   "execution_count": 17
  },
  {
   "metadata": {
    "ExecuteTime": {
     "end_time": "2025-06-27T07:55:59.048074Z",
     "start_time": "2025-06-27T07:55:58.955018Z"
    }
   },
   "cell_type": "code",
   "source": [
    "y_pred_list = []\n",
    "y_true_list = []\n",
    "\n",
    "for x, y in zip(x_test, y_test):\n",
    "    output = predict(network_5, x, training=False)\n",
    "    y_pred_list.append(np.argmax(output))\n",
    "    y_true_list.append(np.argmax(y))\n",
    "\n",
    "accuracy = accuracy_score(y_true_list, y_pred_list)\n",
    "print(f\"Accuracy): {accuracy * 100:.2f}%\\n\")"
   ],
   "id": "2f4198fc9b922496",
   "outputs": [
    {
     "name": "stdout",
     "output_type": "stream",
     "text": [
      "Accuracy): 96.70%\n",
      "\n"
     ]
    }
   ],
   "execution_count": 18
  },
  {
   "metadata": {
    "ExecuteTime": {
     "end_time": "2025-06-27T08:00:19.881642Z",
     "start_time": "2025-06-27T08:00:19.863715Z"
    }
   },
   "cell_type": "code",
   "source": [
    "print(\"Classification report:\")\n",
    "print(classification_report(y_true_list, y_pred_list))"
   ],
   "id": "a758b858acf491d3",
   "outputs": [
    {
     "name": "stdout",
     "output_type": "stream",
     "text": [
      "Classification report:\n",
      "              precision    recall  f1-score   support\n",
      "\n",
      "           0       0.95      0.99      0.97        85\n",
      "           1       0.99      0.98      0.99       126\n",
      "           2       0.97      0.97      0.97       116\n",
      "           3       0.97      0.97      0.97       107\n",
      "           4       0.98      0.95      0.96       110\n",
      "           5       0.97      0.97      0.97        87\n",
      "           6       0.95      0.97      0.96        87\n",
      "           7       0.97      0.97      0.97        99\n",
      "           8       0.94      0.93      0.94        89\n",
      "           9       0.96      0.97      0.96        94\n",
      "\n",
      "    accuracy                           0.97      1000\n",
      "   macro avg       0.97      0.97      0.97      1000\n",
      "weighted avg       0.97      0.97      0.97      1000\n",
      "\n"
     ]
    }
   ],
   "execution_count": 19
  },
  {
   "metadata": {
    "ExecuteTime": {
     "end_time": "2025-06-27T08:00:44.381495Z",
     "start_time": "2025-06-27T08:00:44.360395Z"
    }
   },
   "cell_type": "code",
   "source": [
    "errors = []\n",
    "cm = confusion_matrix(y_true_list, y_pred_list)\n",
    "\n",
    "for true_label in range(cm.shape[0]):\n",
    "    for pred_label in range(cm.shape[0]):\n",
    "\n",
    "        if true_label != pred_label:\n",
    "\n",
    "            error_count = cm[true_label, pred_label]\n",
    "\n",
    "            if error_count > 0:\n",
    "                errors.append({\n",
    "                    'count': error_count,\n",
    "                    'true': true_label,\n",
    "                    'pred': pred_label\n",
    "                })\n",
    "\n",
    "sorted_errors = sorted(errors, key=lambda e: e['count'], reverse=True)\n",
    "\n",
    "if not sorted_errors:\n",
    "    print(\"no any mistakes found\")\n",
    "else:\n",
    "    print(\"Most fequent errors:\\n\")\n",
    "    for error in sorted_errors:\n",
    "        print(f\"  - Real digit '{error['true']}' missmatched with '{error['pred']}'   - {error['count']} times\")"
   ],
   "id": "2476045787152e80",
   "outputs": [
    {
     "name": "stdout",
     "output_type": "stream",
     "text": [
      "Most fequent errors:\n",
      "\n",
      "  - Real digit '4' missmatched with '9'   - 4 times\n",
      "  - Real digit '6' missmatched with '0'   - 3 times\n",
      "  - Real digit '2' missmatched with '8'   - 2 times\n",
      "  - Real digit '4' missmatched with '6'   - 2 times\n",
      "  - Real digit '0' missmatched with '6'   - 1 times\n",
      "  - Real digit '1' missmatched with '2'   - 1 times\n",
      "  - Real digit '1' missmatched with '8'   - 1 times\n",
      "  - Real digit '2' missmatched with '7'   - 1 times\n",
      "  - Real digit '3' missmatched with '2'   - 1 times\n",
      "  - Real digit '3' missmatched with '5'   - 1 times\n",
      "  - Real digit '3' missmatched with '7'   - 1 times\n",
      "  - Real digit '5' missmatched with '3'   - 1 times\n",
      "  - Real digit '5' missmatched with '6'   - 1 times\n",
      "  - Real digit '5' missmatched with '8'   - 1 times\n",
      "  - Real digit '7' missmatched with '1'   - 1 times\n",
      "  - Real digit '7' missmatched with '3'   - 1 times\n",
      "  - Real digit '7' missmatched with '4'   - 1 times\n",
      "  - Real digit '8' missmatched with '0'   - 1 times\n",
      "  - Real digit '8' missmatched with '2'   - 1 times\n",
      "  - Real digit '8' missmatched with '3'   - 1 times\n",
      "  - Real digit '8' missmatched with '4'   - 1 times\n",
      "  - Real digit '8' missmatched with '5'   - 1 times\n",
      "  - Real digit '8' missmatched with '7'   - 1 times\n",
      "  - Real digit '9' missmatched with '2'   - 1 times\n",
      "  - Real digit '9' missmatched with '5'   - 1 times\n",
      "  - Real digit '9' missmatched with '8'   - 1 times\n"
     ]
    }
   ],
   "execution_count": 20
  },
  {
   "metadata": {
    "ExecuteTime": {
     "end_time": "2025-06-27T08:01:33.330590Z",
     "start_time": "2025-06-27T08:01:32.769210Z"
    }
   },
   "cell_type": "code",
   "source": [
    "TRUE_LABEL_TO_INSPECT = 4\n",
    "\n",
    "PRED_LABEL_TO_INSPECT = 9\n",
    "\n",
    "(x_train_orig, y_train_orig), (x_test_orig, y_test_orig) = mnist.load_data()\n",
    "\n",
    "y_pred_list = []\n",
    "y_true_list = []\n",
    "for x, y in zip(x_test, y_test):\n",
    "    output = predict(network_5, x)\n",
    "    y_pred_list.append(np.argmax(output))\n",
    "    y_true_list.append(np.argmax(y))\n",
    "\n",
    "y_pred_array = np.array(y_pred_list)\n",
    "y_true_array = np.array(y_true_list)\n",
    "\n",
    "specific_error_indexes = np.where(\n",
    "    (y_true_array == TRUE_LABEL_TO_INSPECT) &\n",
    "    (y_pred_array == PRED_LABEL_TO_INSPECT)\n",
    ")[0]\n",
    "\n",
    "if len(specific_error_indexes) == 0:\n",
    "    print(f\"No errors '{TRUE_LABEL_TO_INSPECT}' with predicted '{PRED_LABEL_TO_INSPECT}'.\")\n",
    "else:\n",
    "    print(\n",
    "        f\"found {len(specific_error_indexes)} img, where real digit '{TRUE_LABEL_TO_INSPECT}' predicted as '{PRED_LABEL_TO_INSPECT}':\\n\")\n",
    "\n",
    "    num_to_show = min(len(specific_error_indexes), 16)\n",
    "    num_cols = 4\n",
    "    num_rows = (num_to_show + num_cols - 1) // num_cols\n",
    "\n",
    "    plt.figure(figsize=(10, 2.5 * num_rows))\n",
    "    for i, index in enumerate(specific_error_indexes[:num_to_show]):\n",
    "        plt.subplot(num_rows, num_cols, i + 1)\n",
    "\n",
    "        plt.imshow(x_test_orig[index], cmap='gray')\n",
    "\n",
    "        plt.title(f\"index: {index}\\nTrue: {TRUE_LABEL_TO_INSPECT}, Predicted: {PRED_LABEL_TO_INSPECT}\")\n",
    "        plt.axis('off')\n",
    "\n",
    "    plt.tight_layout()\n",
    "    plt.show()"
   ],
   "id": "f6f085b0f32d0d7b",
   "outputs": [
    {
     "name": "stdout",
     "output_type": "stream",
     "text": [
      "found 3 img, where real digit '4' predicted as '9':\n",
      "\n"
     ]
    },
    {
     "data": {
      "text/plain": [
       "<Figure size 1000x250 with 3 Axes>"
      ],
      "image/png": "[encoded data removed]"
     },
     "metadata": {},
     "output_type": "display_data"
    }
   ],
   "execution_count": 22
  },
  {
   "metadata": {},
   "cell_type": "markdown",
   "source": [
    "## Conclusion for this architecture:\n",
    "### If we compare just metrics, yes, the model without dropout layers shows better results, but there is a risk of overfitting. But if we look at the confusion matrix, we can see that the model with dropout layers has fewer mistakes, which means it is more generalized and less prone to overfitting. So, I would say that the model with dropout layers is better for this task."
   ],
   "id": "61ab629366adf8c5"
  },
  {
   "metadata": {},
   "cell_type": "markdown",
   "source": "### mse loss and ReLU activation function is working, but its not hte best optimized approach for this task. In other notebook I will try to implement cross entropy loss and softmax activation function, which is more suitable for classification tasks.",
   "id": "3916e0656f9c9989"
  },
  {
   "metadata": {},
   "cell_type": "code",
   "outputs": [],
   "execution_count": null,
   "source": "",
   "id": "bb944ffca4320ed1"
  }
 ],
 "metadata": {
  "kernelspec": {
   "display_name": "Python 3",
   "language": "python",
   "name": "python3"
  },
  "language_info": {
   "codemirror_mode": {
    "name": "ipython",
    "version": 2
   },
   "file_extension": ".py",
   "mimetype": "text/x-python",
   "name": "python",
   "nbconvert_exporter": "python",
   "pygments_lexer": "ipython2",
   "version": "2.7.6"
  }
 },
 "nbformat": 4,
 "nbformat_minor": 5
}
