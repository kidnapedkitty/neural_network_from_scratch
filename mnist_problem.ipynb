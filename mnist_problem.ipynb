{
 "cells": [
  {
   "metadata": {},
   "cell_type": "markdown",
   "source": "# Lets build a model to classify MNIST digits using the layers we created",
   "id": "fa7405c47cf2bc83"
  },
  {
   "metadata": {
    "ExecuteTime": {
     "end_time": "2025-06-26T08:18:02.280163Z",
     "start_time": "2025-06-26T08:18:02.274452Z"
    }
   },
   "cell_type": "code",
   "source": [
    "import numpy as np\n",
    "\n",
    "from tensorflow.keras.datasets import mnist\n",
    "from tensorflow.keras.utils import to_categorical\n",
    "\n",
    "from dense import Dense\n",
    "from activations import Tanh\n",
    "from loss_functions import mse_loss, mse_loss_derivative\n",
    "from engine import train, predict\n",
    "from activations import ReLU"
   ],
   "id": "42679533f89b7ac1",
   "outputs": [],
   "execution_count": 6
  },
  {
   "metadata": {
    "ExecuteTime": {
     "end_time": "2025-06-26T08:18:03.671653Z",
     "start_time": "2025-06-26T08:18:03.668001Z"
    }
   },
   "cell_type": "code",
   "source": [
    "def preprocessing(x, y, limit):\n",
    "    x = x.reshape(x.shape[0], 28 * 28, 1)\n",
    "    x = x.astype(np.float32) / 255.0\n",
    "\n",
    "    y = to_categorical(y)\n",
    "    y = y.reshape(y.shape[0], 10, 1)\n",
    "\n",
    "    return x[:limit], y[:limit]"
   ],
   "id": "a2f8d601c232b2ae",
   "outputs": [],
   "execution_count": 7
  },
  {
   "metadata": {
    "ExecuteTime": {
     "end_time": "2025-06-26T08:18:05.726970Z",
     "start_time": "2025-06-26T08:18:05.525694Z"
    }
   },
   "cell_type": "code",
   "source": [
    "(x_train, y_train), (x_test, y_test) = mnist.load_data()\n",
    "x_train, y_train = preprocessing(x_train, y_train, 10000)\n",
    "x_test, y_test = preprocessing(x_test, y_test, 20)"
   ],
   "id": "11b37f19d4ce5b69",
   "outputs": [],
   "execution_count": 8
  },
  {
   "metadata": {
    "ExecuteTime": {
     "end_time": "2025-06-26T08:18:08.394441Z",
     "start_time": "2025-06-26T08:18:08.389963Z"
    }
   },
   "cell_type": "code",
   "source": [
    "network = [\n",
    "    Dense(28 * 28, 40),\n",
    "    Tanh(),\n",
    "    Dense(40, 10),\n",
    "    Tanh()\n",
    "]"
   ],
   "id": "ea08a2376fe93ecf",
   "outputs": [],
   "execution_count": 9
  },
  {
   "metadata": {
    "ExecuteTime": {
     "end_time": "2025-06-26T08:22:05.218542Z",
     "start_time": "2025-06-26T08:18:17.582211Z"
    }
   },
   "cell_type": "code",
   "source": "train(network, mse_loss, mse_loss_derivative, x_train, y_train, epochs=100, learning_rate=0.001)",
   "id": "e5649d0bdcf03779",
   "outputs": [
    {
     "name": "stdout",
     "output_type": "stream",
     "text": [
      "Epoch 1/100, Error: 0.1064\n",
      "Epoch 2/100, Error: 0.0651\n",
      "Epoch 3/100, Error: 0.0564\n",
      "Epoch 4/100, Error: 0.0518\n",
      "Epoch 5/100, Error: 0.0488\n",
      "Epoch 6/100, Error: 0.0465\n",
      "Epoch 7/100, Error: 0.0446\n",
      "Epoch 8/100, Error: 0.0430\n",
      "Epoch 9/100, Error: 0.0416\n",
      "Epoch 10/100, Error: 0.0404\n",
      "Epoch 11/100, Error: 0.0393\n",
      "Epoch 12/100, Error: 0.0383\n",
      "Epoch 13/100, Error: 0.0374\n",
      "Epoch 14/100, Error: 0.0366\n",
      "Epoch 15/100, Error: 0.0358\n",
      "Epoch 16/100, Error: 0.0351\n",
      "Epoch 17/100, Error: 0.0345\n",
      "Epoch 18/100, Error: 0.0339\n",
      "Epoch 19/100, Error: 0.0333\n",
      "Epoch 20/100, Error: 0.0328\n",
      "Epoch 21/100, Error: 0.0323\n",
      "Epoch 22/100, Error: 0.0318\n",
      "Epoch 23/100, Error: 0.0314\n",
      "Epoch 24/100, Error: 0.0310\n",
      "Epoch 25/100, Error: 0.0306\n",
      "Epoch 26/100, Error: 0.0302\n",
      "Epoch 27/100, Error: 0.0298\n",
      "Epoch 28/100, Error: 0.0295\n",
      "Epoch 29/100, Error: 0.0291\n",
      "Epoch 30/100, Error: 0.0288\n",
      "Epoch 31/100, Error: 0.0285\n",
      "Epoch 32/100, Error: 0.0282\n",
      "Epoch 33/100, Error: 0.0279\n",
      "Epoch 34/100, Error: 0.0277\n",
      "Epoch 35/100, Error: 0.0274\n",
      "Epoch 36/100, Error: 0.0271\n",
      "Epoch 37/100, Error: 0.0269\n",
      "Epoch 38/100, Error: 0.0266\n",
      "Epoch 39/100, Error: 0.0264\n",
      "Epoch 40/100, Error: 0.0262\n",
      "Epoch 41/100, Error: 0.0259\n",
      "Epoch 42/100, Error: 0.0257\n",
      "Epoch 43/100, Error: 0.0255\n",
      "Epoch 44/100, Error: 0.0253\n",
      "Epoch 45/100, Error: 0.0251\n",
      "Epoch 46/100, Error: 0.0249\n",
      "Epoch 47/100, Error: 0.0247\n",
      "Epoch 48/100, Error: 0.0246\n",
      "Epoch 49/100, Error: 0.0244\n",
      "Epoch 50/100, Error: 0.0242\n",
      "Epoch 51/100, Error: 0.0240\n",
      "Epoch 52/100, Error: 0.0239\n",
      "Epoch 53/100, Error: 0.0237\n",
      "Epoch 54/100, Error: 0.0236\n",
      "Epoch 55/100, Error: 0.0234\n",
      "Epoch 56/100, Error: 0.0233\n",
      "Epoch 57/100, Error: 0.0231\n",
      "Epoch 58/100, Error: 0.0230\n",
      "Epoch 59/100, Error: 0.0228\n",
      "Epoch 60/100, Error: 0.0227\n",
      "Epoch 61/100, Error: 0.0225\n",
      "Epoch 62/100, Error: 0.0224\n",
      "Epoch 63/100, Error: 0.0223\n",
      "Epoch 64/100, Error: 0.0222\n",
      "Epoch 65/100, Error: 0.0220\n",
      "Epoch 66/100, Error: 0.0219\n",
      "Epoch 67/100, Error: 0.0218\n",
      "Epoch 68/100, Error: 0.0217\n",
      "Epoch 69/100, Error: 0.0216\n",
      "Epoch 70/100, Error: 0.0214\n",
      "Epoch 71/100, Error: 0.0213\n",
      "Epoch 72/100, Error: 0.0212\n",
      "Epoch 73/100, Error: 0.0211\n",
      "Epoch 74/100, Error: 0.0210\n",
      "Epoch 75/100, Error: 0.0209\n",
      "Epoch 76/100, Error: 0.0208\n",
      "Epoch 77/100, Error: 0.0207\n",
      "Epoch 78/100, Error: 0.0206\n",
      "Epoch 79/100, Error: 0.0205\n",
      "Epoch 80/100, Error: 0.0204\n",
      "Epoch 81/100, Error: 0.0203\n",
      "Epoch 82/100, Error: 0.0202\n",
      "Epoch 83/100, Error: 0.0201\n",
      "Epoch 84/100, Error: 0.0200\n",
      "Epoch 85/100, Error: 0.0199\n",
      "Epoch 86/100, Error: 0.0198\n",
      "Epoch 87/100, Error: 0.0198\n",
      "Epoch 88/100, Error: 0.0197\n",
      "Epoch 89/100, Error: 0.0196\n",
      "Epoch 90/100, Error: 0.0195\n",
      "Epoch 91/100, Error: 0.0194\n",
      "Epoch 92/100, Error: 0.0193\n",
      "Epoch 93/100, Error: 0.0193\n",
      "Epoch 94/100, Error: 0.0192\n",
      "Epoch 95/100, Error: 0.0191\n",
      "Epoch 96/100, Error: 0.0190\n",
      "Epoch 97/100, Error: 0.0190\n",
      "Epoch 98/100, Error: 0.0189\n",
      "Epoch 99/100, Error: 0.0188\n",
      "Epoch 100/100, Error: 0.0187\n"
     ]
    }
   ],
   "execution_count": 10
  },
  {
   "metadata": {
    "ExecuteTime": {
     "end_time": "2025-06-26T08:22:15.954747Z",
     "start_time": "2025-06-26T08:22:15.930761Z"
    }
   },
   "cell_type": "code",
   "source": [
    "for x, y in zip(x_test, y_test):\n",
    "    output = predict(network, x)\n",
    "    print('pred:', np.argmax(output), '\\ttrue:', np.argmax(y))"
   ],
   "id": "a03f6ff9a93783e9",
   "outputs": [
    {
     "name": "stdout",
     "output_type": "stream",
     "text": [
      "pred: 7 \ttrue: 7\n",
      "pred: 2 \ttrue: 2\n",
      "pred: 1 \ttrue: 1\n",
      "pred: 0 \ttrue: 0\n",
      "pred: 4 \ttrue: 4\n",
      "pred: 1 \ttrue: 1\n",
      "pred: 4 \ttrue: 4\n",
      "pred: 9 \ttrue: 9\n",
      "pred: 6 \ttrue: 5\n",
      "pred: 9 \ttrue: 9\n",
      "pred: 0 \ttrue: 0\n",
      "pred: 8 \ttrue: 6\n",
      "pred: 9 \ttrue: 9\n",
      "pred: 0 \ttrue: 0\n",
      "pred: 1 \ttrue: 1\n",
      "pred: 5 \ttrue: 5\n",
      "pred: 9 \ttrue: 9\n",
      "pred: 7 \ttrue: 7\n",
      "pred: 8 \ttrue: 3\n",
      "pred: 4 \ttrue: 4\n"
     ]
    }
   ],
   "execution_count": 11
  },
  {
   "metadata": {},
   "cell_type": "markdown",
   "source": "### lets try to add some layers to the network",
   "id": "656abda90330aefc"
  },
  {
   "metadata": {
    "ExecuteTime": {
     "end_time": "2025-06-27T02:12:33.738498Z",
     "start_time": "2025-06-27T02:12:33.724927Z"
    }
   },
   "cell_type": "code",
   "source": [
    "network = [\n",
    "    Dense(28 * 28, 40),\n",
    "    Tanh(),\n",
    "    Dense(40, 10),\n",
    "    Tanh(),\n",
    "    Dense(10, 10),\n",
    "    Tanh()\n",
    "]"
   ],
   "id": "f0541ccc96847385",
   "outputs": [],
   "execution_count": 19
  },
  {
   "metadata": {
    "ExecuteTime": {
     "end_time": "2025-06-27T01:52:11.828789Z",
     "start_time": "2025-06-27T01:48:22.986514Z"
    }
   },
   "cell_type": "code",
   "source": "train(network, mse_loss, mse_loss_derivative, x_train, y_train, epochs=100, learning_rate=0.001)",
   "id": "7e62636a2d00237f",
   "outputs": [
    {
     "name": "stdout",
     "output_type": "stream",
     "text": [
      "Epoch 1/100, Error: 0.1157\n",
      "Epoch 2/100, Error: 0.0727\n",
      "Epoch 3/100, Error: 0.0646\n",
      "Epoch 4/100, Error: 0.0605\n",
      "Epoch 5/100, Error: 0.0577\n",
      "Epoch 6/100, Error: 0.0555\n",
      "Epoch 7/100, Error: 0.0536\n",
      "Epoch 8/100, Error: 0.0518\n",
      "Epoch 9/100, Error: 0.0501\n",
      "Epoch 10/100, Error: 0.0484\n",
      "Epoch 11/100, Error: 0.0469\n",
      "Epoch 12/100, Error: 0.0454\n",
      "Epoch 13/100, Error: 0.0441\n",
      "Epoch 14/100, Error: 0.0428\n",
      "Epoch 15/100, Error: 0.0416\n",
      "Epoch 16/100, Error: 0.0404\n",
      "Epoch 17/100, Error: 0.0393\n",
      "Epoch 18/100, Error: 0.0383\n",
      "Epoch 19/100, Error: 0.0374\n",
      "Epoch 20/100, Error: 0.0365\n",
      "Epoch 21/100, Error: 0.0356\n",
      "Epoch 22/100, Error: 0.0349\n",
      "Epoch 23/100, Error: 0.0341\n",
      "Epoch 24/100, Error: 0.0335\n",
      "Epoch 25/100, Error: 0.0329\n",
      "Epoch 26/100, Error: 0.0323\n",
      "Epoch 27/100, Error: 0.0317\n",
      "Epoch 28/100, Error: 0.0312\n",
      "Epoch 29/100, Error: 0.0307\n",
      "Epoch 30/100, Error: 0.0303\n",
      "Epoch 31/100, Error: 0.0298\n",
      "Epoch 32/100, Error: 0.0294\n",
      "Epoch 33/100, Error: 0.0290\n",
      "Epoch 34/100, Error: 0.0287\n",
      "Epoch 35/100, Error: 0.0283\n",
      "Epoch 36/100, Error: 0.0280\n",
      "Epoch 37/100, Error: 0.0276\n",
      "Epoch 38/100, Error: 0.0273\n",
      "Epoch 39/100, Error: 0.0270\n",
      "Epoch 40/100, Error: 0.0267\n",
      "Epoch 41/100, Error: 0.0265\n",
      "Epoch 42/100, Error: 0.0262\n",
      "Epoch 43/100, Error: 0.0259\n",
      "Epoch 44/100, Error: 0.0257\n",
      "Epoch 45/100, Error: 0.0254\n",
      "Epoch 46/100, Error: 0.0252\n",
      "Epoch 47/100, Error: 0.0250\n",
      "Epoch 48/100, Error: 0.0248\n",
      "Epoch 49/100, Error: 0.0245\n",
      "Epoch 50/100, Error: 0.0243\n",
      "Epoch 51/100, Error: 0.0241\n",
      "Epoch 52/100, Error: 0.0239\n",
      "Epoch 53/100, Error: 0.0238\n",
      "Epoch 54/100, Error: 0.0236\n",
      "Epoch 55/100, Error: 0.0234\n",
      "Epoch 56/100, Error: 0.0232\n",
      "Epoch 57/100, Error: 0.0231\n",
      "Epoch 58/100, Error: 0.0229\n",
      "Epoch 59/100, Error: 0.0227\n",
      "Epoch 60/100, Error: 0.0226\n",
      "Epoch 61/100, Error: 0.0224\n",
      "Epoch 62/100, Error: 0.0223\n",
      "Epoch 63/100, Error: 0.0222\n",
      "Epoch 64/100, Error: 0.0220\n",
      "Epoch 65/100, Error: 0.0219\n",
      "Epoch 66/100, Error: 0.0218\n",
      "Epoch 67/100, Error: 0.0216\n",
      "Epoch 68/100, Error: 0.0215\n",
      "Epoch 69/100, Error: 0.0214\n",
      "Epoch 70/100, Error: 0.0213\n",
      "Epoch 71/100, Error: 0.0211\n",
      "Epoch 72/100, Error: 0.0210\n",
      "Epoch 73/100, Error: 0.0209\n",
      "Epoch 74/100, Error: 0.0208\n",
      "Epoch 75/100, Error: 0.0207\n",
      "Epoch 76/100, Error: 0.0206\n",
      "Epoch 77/100, Error: 0.0205\n",
      "Epoch 78/100, Error: 0.0204\n",
      "Epoch 79/100, Error: 0.0203\n",
      "Epoch 80/100, Error: 0.0202\n",
      "Epoch 81/100, Error: 0.0201\n",
      "Epoch 82/100, Error: 0.0200\n",
      "Epoch 83/100, Error: 0.0199\n",
      "Epoch 84/100, Error: 0.0198\n",
      "Epoch 85/100, Error: 0.0198\n",
      "Epoch 86/100, Error: 0.0197\n",
      "Epoch 87/100, Error: 0.0196\n",
      "Epoch 88/100, Error: 0.0195\n",
      "Epoch 89/100, Error: 0.0194\n",
      "Epoch 90/100, Error: 0.0193\n",
      "Epoch 91/100, Error: 0.0193\n",
      "Epoch 92/100, Error: 0.0192\n",
      "Epoch 93/100, Error: 0.0191\n",
      "Epoch 94/100, Error: 0.0190\n",
      "Epoch 95/100, Error: 0.0189\n",
      "Epoch 96/100, Error: 0.0189\n",
      "Epoch 97/100, Error: 0.0188\n",
      "Epoch 98/100, Error: 0.0187\n",
      "Epoch 99/100, Error: 0.0187\n",
      "Epoch 100/100, Error: 0.0186\n"
     ]
    }
   ],
   "execution_count": 13
  },
  {
   "metadata": {
    "ExecuteTime": {
     "end_time": "2025-06-27T01:57:59.375881Z",
     "start_time": "2025-06-27T01:57:59.340497Z"
    }
   },
   "cell_type": "code",
   "source": [
    "from sklearn.metrics import classification_report, confusion_matrix, accuracy_score\n",
    "import matplotlib.pyplot as plt\n",
    "import seaborn as sns\n",
    "\n",
    "y_pred_list = []\n",
    "y_true_list = []\n",
    "\n",
    "for x, y in zip(x_test, y_test):\n",
    "    output = predict(network, x)\n",
    "    y_pred_list.append(np.argmax(output))\n",
    "    y_true_list.append(np.argmax(y))\n",
    "\n",
    "accuracy = accuracy_score(y_true_list, y_pred_list)\n",
    "print(f\"Accuracy): {accuracy * 100:.2f}%\\n\")\n",
    "print(y_pred_list)"
   ],
   "id": "a7af027beb4d1e0a",
   "outputs": [
    {
     "name": "stdout",
     "output_type": "stream",
     "text": [
      "Accuracy): 95.00%\n",
      "\n",
      "[7, 2, 1, 0, 4, 1, 4, 9, 6, 9, 0, 6, 9, 0, 1, 5, 9, 7, 3, 4]\n"
     ]
    }
   ],
   "execution_count": 15
  },
  {
   "metadata": {},
   "cell_type": "markdown",
   "source": "### we can see there are predictions only for 20 pics, lets try to test it on more data",
   "id": "48787c68840248c6"
  },
  {
   "metadata": {
    "ExecuteTime": {
     "end_time": "2025-06-27T02:12:00.918895Z",
     "start_time": "2025-06-27T02:12:00.691699Z"
    }
   },
   "cell_type": "code",
   "source": [
    "# lets try more data for training as well\n",
    "(x_train, y_train), (x_test, y_test) = mnist.load_data()\n",
    "x_train, y_train = preprocessing(x_train, y_train, 30000)\n",
    "x_test, y_test = preprocessing(x_test, y_test, 500)"
   ],
   "id": "291a99ecc0af735b",
   "outputs": [],
   "execution_count": 18
  },
  {
   "metadata": {
    "ExecuteTime": {
     "end_time": "2025-06-27T02:25:26.394944Z",
     "start_time": "2025-06-27T02:14:51.988673Z"
    }
   },
   "cell_type": "code",
   "source": "train(network, mse_loss, mse_loss_derivative, x_train, y_train, epochs=100, learning_rate=0.001)",
   "id": "a0850a9c94a2fe2b",
   "outputs": [
    {
     "name": "stdout",
     "output_type": "stream",
     "text": [
      "Epoch 1/100, Error: 0.0804\n",
      "Epoch 2/100, Error: 0.0567\n",
      "Epoch 3/100, Error: 0.0513\n",
      "Epoch 4/100, Error: 0.0476\n",
      "Epoch 5/100, Error: 0.0449\n",
      "Epoch 6/100, Error: 0.0426\n",
      "Epoch 7/100, Error: 0.0407\n",
      "Epoch 8/100, Error: 0.0390\n",
      "Epoch 9/100, Error: 0.0374\n",
      "Epoch 10/100, Error: 0.0358\n",
      "Epoch 11/100, Error: 0.0344\n",
      "Epoch 12/100, Error: 0.0330\n",
      "Epoch 13/100, Error: 0.0318\n",
      "Epoch 14/100, Error: 0.0307\n",
      "Epoch 15/100, Error: 0.0297\n",
      "Epoch 16/100, Error: 0.0288\n",
      "Epoch 17/100, Error: 0.0280\n",
      "Epoch 18/100, Error: 0.0273\n",
      "Epoch 19/100, Error: 0.0266\n",
      "Epoch 20/100, Error: 0.0260\n",
      "Epoch 21/100, Error: 0.0255\n",
      "Epoch 22/100, Error: 0.0250\n",
      "Epoch 23/100, Error: 0.0245\n",
      "Epoch 24/100, Error: 0.0241\n",
      "Epoch 25/100, Error: 0.0237\n",
      "Epoch 26/100, Error: 0.0233\n",
      "Epoch 27/100, Error: 0.0229\n",
      "Epoch 28/100, Error: 0.0226\n",
      "Epoch 29/100, Error: 0.0223\n",
      "Epoch 30/100, Error: 0.0220\n",
      "Epoch 31/100, Error: 0.0217\n",
      "Epoch 32/100, Error: 0.0214\n",
      "Epoch 33/100, Error: 0.0212\n",
      "Epoch 34/100, Error: 0.0209\n",
      "Epoch 35/100, Error: 0.0207\n",
      "Epoch 36/100, Error: 0.0205\n",
      "Epoch 37/100, Error: 0.0202\n",
      "Epoch 38/100, Error: 0.0200\n",
      "Epoch 39/100, Error: 0.0198\n",
      "Epoch 40/100, Error: 0.0196\n",
      "Epoch 41/100, Error: 0.0195\n",
      "Epoch 42/100, Error: 0.0193\n",
      "Epoch 43/100, Error: 0.0191\n",
      "Epoch 44/100, Error: 0.0189\n",
      "Epoch 45/100, Error: 0.0188\n",
      "Epoch 46/100, Error: 0.0186\n",
      "Epoch 47/100, Error: 0.0185\n",
      "Epoch 48/100, Error: 0.0183\n",
      "Epoch 49/100, Error: 0.0182\n",
      "Epoch 50/100, Error: 0.0181\n",
      "Epoch 51/100, Error: 0.0179\n",
      "Epoch 52/100, Error: 0.0178\n",
      "Epoch 53/100, Error: 0.0177\n",
      "Epoch 54/100, Error: 0.0176\n",
      "Epoch 55/100, Error: 0.0175\n",
      "Epoch 56/100, Error: 0.0173\n",
      "Epoch 57/100, Error: 0.0172\n",
      "Epoch 58/100, Error: 0.0171\n",
      "Epoch 59/100, Error: 0.0170\n",
      "Epoch 60/100, Error: 0.0169\n",
      "Epoch 61/100, Error: 0.0168\n",
      "Epoch 62/100, Error: 0.0167\n",
      "Epoch 63/100, Error: 0.0166\n",
      "Epoch 64/100, Error: 0.0165\n",
      "Epoch 65/100, Error: 0.0164\n",
      "Epoch 66/100, Error: 0.0164\n",
      "Epoch 67/100, Error: 0.0163\n",
      "Epoch 68/100, Error: 0.0162\n",
      "Epoch 69/100, Error: 0.0161\n",
      "Epoch 70/100, Error: 0.0160\n",
      "Epoch 71/100, Error: 0.0159\n",
      "Epoch 72/100, Error: 0.0159\n",
      "Epoch 73/100, Error: 0.0158\n",
      "Epoch 74/100, Error: 0.0157\n",
      "Epoch 75/100, Error: 0.0156\n",
      "Epoch 76/100, Error: 0.0155\n",
      "Epoch 77/100, Error: 0.0155\n",
      "Epoch 78/100, Error: 0.0154\n",
      "Epoch 79/100, Error: 0.0153\n",
      "Epoch 80/100, Error: 0.0153\n",
      "Epoch 81/100, Error: 0.0152\n",
      "Epoch 82/100, Error: 0.0151\n",
      "Epoch 83/100, Error: 0.0151\n",
      "Epoch 84/100, Error: 0.0150\n",
      "Epoch 85/100, Error: 0.0149\n",
      "Epoch 86/100, Error: 0.0149\n",
      "Epoch 87/100, Error: 0.0148\n",
      "Epoch 88/100, Error: 0.0147\n",
      "Epoch 89/100, Error: 0.0147\n",
      "Epoch 90/100, Error: 0.0146\n",
      "Epoch 91/100, Error: 0.0145\n",
      "Epoch 92/100, Error: 0.0145\n",
      "Epoch 93/100, Error: 0.0144\n",
      "Epoch 94/100, Error: 0.0144\n",
      "Epoch 95/100, Error: 0.0143\n",
      "Epoch 96/100, Error: 0.0142\n",
      "Epoch 97/100, Error: 0.0142\n",
      "Epoch 98/100, Error: 0.0141\n",
      "Epoch 99/100, Error: 0.0141\n",
      "Epoch 100/100, Error: 0.0140\n"
     ]
    }
   ],
   "execution_count": 20
  },
  {
   "metadata": {
    "ExecuteTime": {
     "end_time": "2025-06-27T02:52:45.925327Z",
     "start_time": "2025-06-27T02:52:45.289922Z"
    }
   },
   "cell_type": "code",
   "source": [
    "y_pred_list = []\n",
    "y_true_list = []\n",
    "\n",
    "for x, y in zip(x_test, y_test):\n",
    "    output = predict(network, x)\n",
    "    y_pred_list.append(np.argmax(output))\n",
    "    y_true_list.append(np.argmax(y))\n",
    "\n",
    "accuracy = accuracy_score(y_true_list, y_pred_list)\n",
    "print(f\"Accuracy): {accuracy * 100:.2f}%\\n\")"
   ],
   "id": "8126a4631d26481c",
   "outputs": [
    {
     "name": "stdout",
     "output_type": "stream",
     "text": [
      "Accuracy): 94.40%\n",
      "\n"
     ]
    }
   ],
   "execution_count": 28
  },
  {
   "metadata": {},
   "cell_type": "markdown",
   "source": "### We achieved 94.4% accuracy on 500 test samples, lets check the classification report and confusion matrix",
   "id": "5f95b0bc8b63b4a9"
  },
  {
   "metadata": {
    "ExecuteTime": {
     "end_time": "2025-06-27T02:26:57.005153Z",
     "start_time": "2025-06-27T02:26:56.981875Z"
    }
   },
   "cell_type": "code",
   "source": [
    "print(\"Classification report:\")\n",
    "print(classification_report(y_true_list, y_pred_list))"
   ],
   "id": "a66c162bc37bc168",
   "outputs": [
    {
     "name": "stdout",
     "output_type": "stream",
     "text": [
      "Classification report:\n",
      "              precision    recall  f1-score   support\n",
      "\n",
      "           0       0.93      1.00      0.97        42\n",
      "           1       0.99      1.00      0.99        67\n",
      "           2       0.98      0.91      0.94        55\n",
      "           3       0.93      0.93      0.93        45\n",
      "           4       0.98      0.96      0.97        55\n",
      "           5       0.96      0.90      0.93        50\n",
      "           6       0.91      0.93      0.92        43\n",
      "           7       0.90      0.94      0.92        49\n",
      "           8       0.88      0.95      0.92        40\n",
      "           9       0.94      0.91      0.92        54\n",
      "\n",
      "    accuracy                           0.94       500\n",
      "   macro avg       0.94      0.94      0.94       500\n",
      "weighted avg       0.95      0.94      0.94       500\n",
      "\n"
     ]
    }
   ],
   "execution_count": 22
  },
  {
   "metadata": {
    "ExecuteTime": {
     "end_time": "2025-06-27T02:31:07.063191Z",
     "start_time": "2025-06-27T02:31:07.046390Z"
    }
   },
   "cell_type": "code",
   "source": "print(confusion_matrix(y_true_list, y_pred_list))",
   "id": "99ab2de678e71cfe",
   "outputs": [
    {
     "name": "stdout",
     "output_type": "stream",
     "text": [
      "[[42  0  0  0  0  0  0  0  0  0]\n",
      " [ 0 67  0  0  0  0  0  0  0  0]\n",
      " [ 0  0 50  0  0  0  0  2  1  2]\n",
      " [ 0  0  0 42  0  1  1  1  0  0]\n",
      " [ 0  0  0  0 53  0  2  0  0  0]\n",
      " [ 1  0  0  2  0 45  1  0  1  0]\n",
      " [ 2  0  0  0  0  1 40  0  0  0]\n",
      " [ 0  1  1  0  1  0  0 46  0  0]\n",
      " [ 0  0  0  0  0  0  0  1 38  1]\n",
      " [ 0  0  0  1  0  0  0  1  3 49]]\n"
     ]
    }
   ],
   "execution_count": 23
  },
  {
   "metadata": {},
   "cell_type": "markdown",
   "source": "### lets decode",
   "id": "126a2e3b7622f1b5"
  },
  {
   "metadata": {
    "ExecuteTime": {
     "end_time": "2025-06-27T02:40:58.950492Z",
     "start_time": "2025-06-27T02:40:58.928748Z"
    }
   },
   "cell_type": "code",
   "source": [
    "errors = []\n",
    "cm = confusion_matrix(y_true_list, y_pred_list)\n",
    "\n",
    "for true_label in range(cm.shape[0]):\n",
    "    for pred_label in range(cm.shape[0]):\n",
    "\n",
    "        if true_label != pred_label:\n",
    "\n",
    "            error_count = cm[true_label, pred_label]\n",
    "\n",
    "            if error_count > 0:\n",
    "                errors.append({\n",
    "                    'count': error_count,\n",
    "                    'true': true_label,\n",
    "                    'pred': pred_label\n",
    "                })\n",
    "\n",
    "sorted_errors = sorted(errors, key=lambda e: e['count'], reverse=True)\n",
    "\n",
    "if not sorted_errors:\n",
    "    print(\"no any mistakes found\")\n",
    "else:\n",
    "    print(\"Most fequent errors:\\n\")\n",
    "    for error in sorted_errors:\n",
    "        print(f\"  - Real digit '{error['true']}' missmatched with '{error['pred']}'   - {error['count']} times\")\n"
   ],
   "id": "96780f0a2d77fbbb",
   "outputs": [
    {
     "name": "stdout",
     "output_type": "stream",
     "text": [
      "Most fequent errors:\n",
      "\n",
      "  - Real digit '9' missmatched with '8'   - 3 times\n",
      "  - Real digit '2' missmatched with '7'   - 2 times\n",
      "  - Real digit '2' missmatched with '9'   - 2 times\n",
      "  - Real digit '4' missmatched with '6'   - 2 times\n",
      "  - Real digit '5' missmatched with '3'   - 2 times\n",
      "  - Real digit '6' missmatched with '0'   - 2 times\n",
      "  - Real digit '2' missmatched with '8'   - 1 times\n",
      "  - Real digit '3' missmatched with '5'   - 1 times\n",
      "  - Real digit '3' missmatched with '6'   - 1 times\n",
      "  - Real digit '3' missmatched with '7'   - 1 times\n",
      "  - Real digit '5' missmatched with '0'   - 1 times\n",
      "  - Real digit '5' missmatched with '6'   - 1 times\n",
      "  - Real digit '5' missmatched with '8'   - 1 times\n",
      "  - Real digit '6' missmatched with '5'   - 1 times\n",
      "  - Real digit '7' missmatched with '1'   - 1 times\n",
      "  - Real digit '7' missmatched with '2'   - 1 times\n",
      "  - Real digit '7' missmatched with '4'   - 1 times\n",
      "  - Real digit '8' missmatched with '7'   - 1 times\n",
      "  - Real digit '8' missmatched with '9'   - 1 times\n",
      "  - Real digit '9' missmatched with '3'   - 1 times\n",
      "  - Real digit '9' missmatched with '7'   - 1 times\n"
     ]
    }
   ],
   "execution_count": 24
  },
  {
   "metadata": {
    "ExecuteTime": {
     "end_time": "2025-06-27T02:51:13.377161Z",
     "start_time": "2025-06-27T02:51:13.092682Z"
    }
   },
   "cell_type": "code",
   "source": [
    "TRUE_LABEL_TO_INSPECT = 9\n",
    "\n",
    "PRED_LABEL_TO_INSPECT = 8\n",
    "\n",
    "(x_train_orig, y_train_orig), (x_test_orig, y_test_orig) = mnist.load_data()\n",
    "\n",
    "y_pred_list = []\n",
    "y_true_list = []\n",
    "for x, y in zip(x_test, y_test):\n",
    "    output = predict(network, x)\n",
    "    y_pred_list.append(np.argmax(output))\n",
    "    y_true_list.append(np.argmax(y))\n",
    "\n",
    "y_pred_array = np.array(y_pred_list)\n",
    "y_true_array = np.array(y_true_list)\n",
    "\n",
    "specific_error_indexes = np.where(\n",
    "    (y_true_array == TRUE_LABEL_TO_INSPECT) &\n",
    "    (y_pred_array == PRED_LABEL_TO_INSPECT)\n",
    ")[0]\n",
    "\n",
    "if len(specific_error_indexes) == 0:\n",
    "    print(f\"No errors '{TRUE_LABEL_TO_INSPECT}' with predicted '{PRED_LABEL_TO_INSPECT}'.\")\n",
    "else:\n",
    "    print(\n",
    "        f\"found {len(specific_error_indexes)} img, where real digit '{TRUE_LABEL_TO_INSPECT}' predicted as '{PRED_LABEL_TO_INSPECT}':\\n\")\n",
    "\n",
    "    num_to_show = min(len(specific_error_indexes), 16)\n",
    "    num_cols = 4\n",
    "    num_rows = (num_to_show + num_cols - 1) // num_cols\n",
    "\n",
    "    plt.figure(figsize=(10, 2.5 * num_rows))\n",
    "    for i, index in enumerate(specific_error_indexes[:num_to_show]):\n",
    "        plt.subplot(num_rows, num_cols, i + 1)\n",
    "\n",
    "        plt.imshow(x_test_orig[index], cmap='gray')\n",
    "\n",
    "        plt.title(f\"index: {index}\\nTrue: {TRUE_LABEL_TO_INSPECT}, Predicted: {PRED_LABEL_TO_INSPECT}\")\n",
    "        plt.axis('off')\n",
    "\n",
    "    plt.tight_layout()\n",
    "    plt.show()"
   ],
   "id": "d43cad761ab7e59e",
   "outputs": [
    {
     "name": "stdout",
     "output_type": "stream",
     "text": [
      "found 3 img, where real digit '9' predicted as '8':\n",
      "\n"
     ]
    },
    {
     "data": {
      "text/plain": [
       "<Figure size 1000x250 with 3 Axes>"
      ],
      "image/png": "[encoded data removed]"
     },
     "metadata": {},
     "output_type": "display_data"
    }
   ],
   "execution_count": 27
  },
  {
   "metadata": {},
   "cell_type": "markdown",
   "source": "### lets feed our model with the rest of data",
   "id": "5cfd2d419f07d3c8"
  },
  {
   "metadata": {
    "ExecuteTime": {
     "end_time": "2025-06-27T03:19:44.501197Z",
     "start_time": "2025-06-27T03:17:44.052821Z"
    }
   },
   "cell_type": "code",
   "source": [
    "remaining_x_train = x_train_orig[30000:]\n",
    "remaining_y_train = y_train_orig[30000:]\n",
    "\n",
    "x_train_remaining_processed, y_train_remaining_processed = preprocessing(\n",
    "    remaining_x_train,\n",
    "    remaining_y_train,\n",
    "    len(remaining_x_train)\n",
    ")\n",
    "\n",
    "train(\n",
    "    network,\n",
    "    mse_loss,\n",
    "    mse_loss_derivative,\n",
    "    x_train_remaining_processed,\n",
    "    y_train_remaining_processed,\n",
    "    epochs=20,\n",
    "    learning_rate=0.001\n",
    ")\n",
    "\n",
    "print(\"Training on remaining data completed.\")"
   ],
   "id": "6f32f578033d91d6",
   "outputs": [
    {
     "name": "stdout",
     "output_type": "stream",
     "text": [
      "Epoch 1/20, Error: 0.0153\n",
      "Epoch 2/20, Error: 0.0151\n",
      "Epoch 3/20, Error: 0.0150\n",
      "Epoch 4/20, Error: 0.0149\n",
      "Epoch 5/20, Error: 0.0148\n",
      "Epoch 6/20, Error: 0.0147\n",
      "Epoch 7/20, Error: 0.0146\n",
      "Epoch 8/20, Error: 0.0145\n",
      "Epoch 9/20, Error: 0.0145\n",
      "Epoch 10/20, Error: 0.0144\n",
      "Epoch 11/20, Error: 0.0143\n",
      "Epoch 12/20, Error: 0.0142\n",
      "Epoch 13/20, Error: 0.0142\n",
      "Epoch 14/20, Error: 0.0141\n",
      "Epoch 15/20, Error: 0.0140\n",
      "Epoch 16/20, Error: 0.0140\n",
      "Epoch 17/20, Error: 0.0139\n",
      "Epoch 18/20, Error: 0.0138\n",
      "Epoch 19/20, Error: 0.0138\n",
      "Epoch 20/20, Error: 0.0137\n",
      "Training on remaining data completed.\n"
     ]
    }
   ],
   "execution_count": 29
  },
  {
   "metadata": {},
   "cell_type": "markdown",
   "source": "### our model shows good results, lets check the accuracy again",
   "id": "a35426a44ebeb3a4"
  },
  {
   "metadata": {
    "ExecuteTime": {
     "end_time": "2025-06-27T03:36:16.657525Z",
     "start_time": "2025-06-27T03:36:16.595292Z"
    }
   },
   "cell_type": "code",
   "source": [
    "x_test_new, y_test_new = x_test_orig[500:], y_test_orig[500:]\n",
    "y_pred_list = []\n",
    "y_true_list = []\n",
    "\n",
    "for x, y in zip(x_test, y_test):\n",
    "    output = predict(network, x)\n",
    "    y_pred_list.append(np.argmax(output))\n",
    "    y_true_list.append(np.argmax(y))\n",
    "\n",
    "accuracy = accuracy_score(y_true_list, y_pred_list)\n",
    "print(f\"Accuracy): {accuracy * 100:.2f}%\\n\")"
   ],
   "id": "88937205b7048df",
   "outputs": [
    {
     "name": "stdout",
     "output_type": "stream",
     "text": [
      "Accuracy): 94.60%\n",
      "\n"
     ]
    }
   ],
   "execution_count": 30
  },
  {
   "metadata": {},
   "cell_type": "markdown",
   "source": "### After we feeded our model with the rest of data, we achieved only 94.6% accuracy, so lets try to change our architecture",
   "id": "3ea934589410d500"
  },
  {
   "metadata": {},
   "cell_type": "code",
   "outputs": [],
   "execution_count": null,
   "source": "",
   "id": "3be93ea1c1e45ca4"
  }
 ],
 "metadata": {
  "kernelspec": {
   "display_name": "Python 3",
   "language": "python",
   "name": "python3"
  },
  "language_info": {
   "codemirror_mode": {
    "name": "ipython",
    "version": 2
   },
   "file_extension": ".py",
   "mimetype": "text/x-python",
   "name": "python",
   "nbconvert_exporter": "python",
   "pygments_lexer": "ipython2",
   "version": "2.7.6"
  }
 },
 "nbformat": 4,
 "nbformat_minor": 5
}
