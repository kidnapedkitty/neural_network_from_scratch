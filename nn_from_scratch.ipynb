{
 "cells": [
  {
   "metadata": {},
   "cell_type": "markdown",
   "source": "# Neural Network from Scratch With Gradient Descent",
   "id": "f808065a73f01dff"
  },
  {
   "metadata": {},
   "cell_type": "markdown",
   "source": "## Create the Base Layer class",
   "id": "aab462ffc2e9255"
  },
  {
   "metadata": {
    "ExecuteTime": {
     "end_time": "2025-06-25T10:50:32.454029Z",
     "start_time": "2025-06-25T10:50:32.450353Z"
    }
   },
   "cell_type": "code",
   "source": [
    "class Layer:\n",
    "    def __init__(self):\n",
    "        self.input = None\n",
    "        self.output = None\n",
    "\n",
    "    def forward(self, input):\n",
    "        # takes input and returns output\n",
    "        pass\n",
    "\n",
    "    def backward(self, output_gradient, learning_rate):\n",
    "        #takes derivative of loss with respect to output and returns derivative of loss with respect to input, also updates weights\n",
    "        pass"
   ],
   "id": "c45399283f2c25e",
   "outputs": [],
   "execution_count": 1
  },
  {
   "metadata": {},
   "cell_type": "markdown",
   "source": [
    "## Create the Dense layer\n",
    "### This layer will be fully connected, meaning every input neuron is connected to every output neuron.\n",
    "\n"
   ],
   "id": "ca5e85e246cf68f4"
  },
  {
   "metadata": {
    "ExecuteTime": {
     "end_time": "2025-06-25T10:50:32.638960Z",
     "start_time": "2025-06-25T10:50:32.520995Z"
    }
   },
   "cell_type": "code",
   "source": [
    "import numpy as np\n",
    "\n",
    "\n",
    "class Dense(Layer):\n",
    "    def __init__(self, input_size, output_size):\n",
    "        self.weights = np.random.randn(input_size, output_size)\n",
    "        self.bias = np.random.randn(output_size, 1)\n",
    "\n",
    "    def forward(self, input):\n",
    "        self.input = input\n",
    "        return np.dot(input, self.weights) + self.bias\n",
    "\n",
    "    def backward(self, output_gradient, learning_rate):\n",
    "        weight_gradient = np.dot(output_gradient, self.input.T)\n",
    "        self.weights -= learning_rate * output_gradient\n",
    "        self.bias -= learning_rate * output_gradient\n",
    "        return np.dot(self.weights.T, output_gradient)\n",
    "\n"
   ],
   "id": "d20ed38c972840c",
   "outputs": [],
   "execution_count": 2
  },
  {
   "metadata": {},
   "cell_type": "markdown",
   "source": "## Activation functions",
   "id": "802ccf0699b1eb0d"
  },
  {
   "metadata": {
    "ExecuteTime": {
     "end_time": "2025-06-25T10:50:32.693704Z",
     "start_time": "2025-06-25T10:50:32.685521Z"
    }
   },
   "cell_type": "code",
   "source": [
    "class Activation(Layer):\n",
    "    def __init__(self, activation_function, derivative_function):\n",
    "        self.activation_function = activation_function\n",
    "        self.derivative_function = derivative_function\n",
    "\n",
    "    def forward(self, input):\n",
    "        self.input = input\n",
    "        return self.activation_function(self.input)\n",
    "\n",
    "    def backward(self, output_gradient, learning_rate):\n",
    "        return np.multiply(output_gradient, self.derivative_function(self.input))"
   ],
   "id": "a1ef5f3984a531a0",
   "outputs": [],
   "execution_count": 3
  },
  {
   "metadata": {},
   "cell_type": "markdown",
   "source": "## Hyperbolic Tangent Activation Function",
   "id": "4034eb277107004e"
  },
  {
   "metadata": {
    "ExecuteTime": {
     "end_time": "2025-06-25T10:50:32.754197Z",
     "start_time": "2025-06-25T10:50:32.730344Z"
    }
   },
   "cell_type": "code",
   "source": [
    "class Tanh(Activation):\n",
    "    def __init__(self):\n",
    "        tanh = lambda x: np.tanh(x)\n",
    "        tanh_derivative = lambda x: 1 - np.tanh(x) ** 2\n",
    "        super().__init__(tanh, tanh_derivative)"
   ],
   "id": "999f72e3de24658",
   "outputs": [],
   "execution_count": 4
  },
  {
   "metadata": {},
   "cell_type": "markdown",
   "source": "## Loss Function - MSE",
   "id": "4b120e6804acd7d8"
  },
  {
   "metadata": {
    "ExecuteTime": {
     "end_time": "2025-06-25T10:50:32.787873Z",
     "start_time": "2025-06-25T10:50:32.784750Z"
    }
   },
   "cell_type": "code",
   "source": [
    "def mse_loss(predicted, actual):\n",
    "    return np.mean(np.power(actual - predicted, 2))\n",
    "\n",
    "\n",
    "def mse_loss_derivative(predicted, actual):\n",
    "    return 2 * (predicted - actual) / np.size(actual)"
   ],
   "id": "4b8efece2c0854de",
   "outputs": [],
   "execution_count": 5
  },
  {
   "metadata": {},
   "cell_type": "markdown",
   "source": "## Time to use our layers to create a simple neural network",
   "id": "7047c42946eb3ee1"
  },
  {
   "metadata": {},
   "cell_type": "code",
   "outputs": [],
   "execution_count": null,
   "source": [
    "# but first, lets create functions to train and test the model\n",
    "\n",
    "def predict(network, input):\n",
    "    output = input\n",
    "    for layer in network:\n",
    "        output = layer.forward(output)\n",
    "    return output\n",
    "\n",
    "\n",
    "def train(network, loss_function, loss_derivative, X_train, y_train, epochs=10000, learning_rate=0.01, verbose=True):\n",
    "    for epoch in range(epochs):\n",
    "        error = 0\n",
    "        for x, y in zip(X_train, y_train):\n",
    "            # forward pass\n",
    "            output = predict(network, x)\n",
    "\n",
    "            #error calculation\n",
    "            error += loss_function(y, output)\n",
    "\n",
    "            # backward pass\n",
    "            output_gradient = loss_derivative(y, output)\n",
    "            for layer in reversed(network):\n",
    "                output_gradient = layer.backward(output_gradient, learning_rate)\n",
    "\n",
    "            error /= len(X_train)\n",
    "\n",
    "            if verbose:\n",
    "                print(f'Epoch {epoch + 1}/{epochs}, Error: {error:.4f}')"
   ],
   "id": "300d2ef0d8a20430"
  }
 ],
 "metadata": {
  "kernelspec": {
   "display_name": "Python 3",
   "language": "python",
   "name": "python3"
  },
  "language_info": {
   "codemirror_mode": {
    "name": "ipython",
    "version": 2
   },
   "file_extension": ".py",
   "mimetype": "text/x-python",
   "name": "python",
   "nbconvert_exporter": "python",
   "pygments_lexer": "ipython2",
   "version": "2.7.6"
  }
 },
 "nbformat": 4,
 "nbformat_minor": 5
}
